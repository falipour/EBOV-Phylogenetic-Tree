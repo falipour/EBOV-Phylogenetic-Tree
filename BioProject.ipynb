{
 "cells": [
  {
   "cell_type": "markdown",
   "metadata": {
    "deletable": true,
    "editable": true,
    "slideshow": {
     "slide_type": "-"
    }
   },
   "source": [
    "<div style=\"direction:rtl;line-height:300%;\"><font face=\"XB Zar\" size=5>\n",
    "<div style=\"direction:rtl;line-height:300%;\"><font face=\"XB Zar\" size=5>\n",
    "<div align=center>\n",
    "<font face=\"IranNastaliq\" size=30>\n",
    "<p></p>\n",
    "به نام خدا\n",
    "</font>\n",
    "<br>\n",
    "<font color=#E74C3C>\n",
    "درخت زندگی ابولا ویروس\n",
    "</font>\n",
    "<br>\n",
    "<font color=#069FAB>\n",
    "مقدمه‌ای بر بیوانفورماتیک\n",
    "</font>\n",
    "</div>\n",
    "<div align=center>\n",
    "<font color=#5E6667>\n",
    "فاطمه علی‌پور\n",
    "- ۹۳۱۰۵۳۵۳</font>\n",
    "</div>\n",
    "<hr>\n",
    "</font></div>\n",
    "\n",
    "<style type=\"text/css\" scoped>\n",
    "p{\n",
    "border: 10px solid #a2a9b1;background-color: #f8f9fa;display: inline-block;\n",
    "};\n",
    "</style>\n",
    "\n",
    "<div>\n",
    "<h4><font color=#069FAB> فهرست محتویات</font></h4>\n",
    "<ul style=\"margin-right: 0;\">\n",
    "<li><a href=\"#introduction\"><font color=#E74C3C>مقدمه</font></a></li>\n",
    "<li><a href=\"#alignment\"><font color=#E74C3C>توالی</font></a></li>\n",
    "<li><a href=\"#tree\"><font color=#E74C3C>درخت زندگی</font></a></li>\n",
    "<li><a href=\"#estimate\"><font color=#E74C3C>تخمین گذشته، پیش‌بینی آینده</div>\n",
    "</ul>\n",
    "</div>\n",
    "</div>\n"
   ]
  },
  {
   "cell_type": "markdown",
   "metadata": {
    "deletable": true,
    "editable": true
   },
   "source": [
    "<div style=\"direction:rtl;line-height:300%;\"><font face=\"XB Zar\" size=4>\n",
    "<font color=#E74C3C size=5>\n",
    "<div id=\"introduction\">۱. مقدمه</div>\n",
    "</font>\n",
    "<div><font color=#069FAB size=5>۱.۲. شناخت ژنوم ابولاویروس </font></div>\n",
    "همان طور که بیان شد ژنوم ابولاویروس شامل ۷ ژن است. نام و توضیح مختصری درباره هر کدارم از آن‌ها در زیر آمده است:\n",
    "<br>\n",
    "NP: از این ژن یک پروتئین هسته‌ای(nucleoprotein) تولید می‌شود که نقش ساختاری دارد. چون این ژن در ابتدای ژنوم قرار دارد بیشتر از سایر ژن‌ها به پروتئین ترجمه می‌شود.\n",
    "<br>\n",
    "VP35: از این ژن یک پروتئین ساختاری تولید می‌شود که جزئی از complex مضاعف‌سازی و رونویسی از ژن می‌باشد.(replication/transcription complex). پروتئین حاصله نقشی شبیه پروتئین P در پارامیکسو ویروس و رابدوویروس دارد.\n",
    "<br>\n",
    "VP40: این ژن به پروتئین ساختاری که در ماتریکس جای می‌گیرد ترجمه می‌شود.\n",
    "<br>\n",
    "GP: این ژن به یک گلیکوپروتئین بزرگ منفرد ساختاری ترجمه می‌شود.\n",
    "<br>\n",
    "VP30: از این ژن یک پروتئین ساختاری تولید می‌شود که جزئی از complex مضاعف‌سازی و رونویسی از ژن می‌باشد.(replication/transcription complex). پروتئین حاصله یک فسفوپروتئین است.\n",
    "<br>\n",
    "VP24: پروتئین حاصل از این ژن همراه envelope است. همچنین این پروتئین یک پروتئین ساختاری مینور در ماتریکس می‌باشد.\n",
    "<br>\n",
    "L: این ژن به پروتئین ساختاری RNA Polymerase وابسته به RNA ترجمه می‌شود.\n",
    "<br>\n",
    "<br>\n",
    "پروتئین‌هایی که در replication این ویروس نقش دارند به دنبال تکثیر ویروس باعث گسترش این ویروس در بدن موجودات زنده می‌شوند. بنابراین پروتئین‌های حاصله از VP35, VP30 و L احتمالا نقش مهی در بیماری‌زایی ایفا کنند.\n",
    "<br> همچنین پروتئین حاصله از ژن VP24 به یک پروتئین ناقل بر روی سطح سلول‌های ایمنی که نقش مهمی در مسیر اینترفرون دارد متصل شده وآن را مهار می‌کند. اینترفرون از سلول‌های ایمنی بدن ترشح شده و مانع از تکثیر بیشتر ویروس در بدن می‌شود. بنابراین VP24 در بیماری زایی نقش  بسیار مهمی دارد.\n",
    "<br>\n",
    "پروتئین حاصل از GP نیز به receptor سلولی متصل شده و باعث ورودی ویروس به درون سلول می‌گردد.\n",
    "<br>\n",
    "<br>\n",
    "<div style=\"direction:ltr;line-height:200%;\">\n",
    "References:\n",
    "<br>\n",
    "[1]: Neumann G1, Watanabe S, Kawaoka Y, Characterization of Ebolavirus regulatory genomic regions, Virus Research Journal,  2009 Sep.\n",
    "<br>\n",
    "[2]: Sanchez A1, Kiley MP, Holloway BP, Auperin DD, Sequence analysis of the Ebola virus genome: organization, genetic elements, and comparison with the genome of Marburg virus, Virus Research Journal, 1993 Sep.\n",
    "</div>\n",
    "<br>\n",
    "<div><font color=#069FAB size=5>۱.۳. ایجاد بیماری توسط ابولاویروس</font></div>\n",
    "بعد از ورود ویروس به بدن انسان و پریمات‌ها یک دوره تکثیر اولیه ویروس اتفاق میفتد. در این مرحله پاسخ ایمنی وجود ندارد. گلیکوپروتئین ویروس یک پروتئین ترشحی غیرساختاری است که به مولکول CDb16 در نوتروفیل‌ها می‌چسبد و آن‌ها را مهار می‌کند. پس GP در مهار سیتم ایمنی میزبان نقش دارد. ۴ تا ۶ روز پس از عفونت اولیه سیستم ایمنی با تولید اینترلوکین ۱ بتا، اینترلوکین ۶و فاکتور نکروز دهنده تومور(TNF) به عفونت پاسخ می‌دهد. \n",
    "<br>\n",
    "یک GP دوم به سلول‌های اندوتلیال میزبان می‌چسبد. ویروس ابولا به این سلول‌ها هجوم برده، در آن‌ها تکثیر می‌شود و این سلول‌ها را تخریب می‌کند. تکثیر ویروس و تخریب سلول باعث نکروز موضعی بافت می‌شود که شدید‌ترین آن در کبد رخ می‌دهد. در انواع کشنده بافت میزبان حاوی مقادیر فراوان ویروس ابولا می‌باشد و با تخریب بافت انعقاد داخل عروقی رخ می‌دهد. این مسئله به همراه نکروز بافت کبد، موجب خونریزی از قسمت‌های مختلف بدن و شوک هایپوولمیک می‌شود و در نهایت موجب مرگ میزبان می‌گردد.\n",
    "<br>\n",
    "<br>\n",
    "<div style=\"direction:ltr;line-height:200%;\">\n",
    "References:\n",
    "<br>\n",
    "[1] John W King, MD; Chief Editor: Pranatharthi Haran Chandrasekar, MBBS, MD, Ebola Virus Infection: Practice Essentials, Background, Pathophysiology and Etiology, MedScape, Oct 13, 2017.\n",
    "<a href=\"https://emedicine.medscape.com/article/216288-overview#a5\">لینک مقاله</a>\n",
    "</div>\n",
    "<br>\n",
    "<br>\n",
    "</font>\n",
    "</div> "
   ]
  },
  {
   "cell_type": "markdown",
   "metadata": {
    "deletable": true,
    "editable": true
   },
   "source": [
    "<div style=\"direction:rtl;line-height:300%;\"><font face=\"XB Zar\" size=4>\n",
    "<font color=#E74C3C size=6>\n",
    "<div id=\"alignment\">۲. توالی</div>\n",
    "</font>\n",
    "<div><font color=#069FAB size=5>۲.۱. داده‌های ژنوم</font></div>\n",
    "داده‌های ژنوم در فایل BioProjectFiles موجود است.\n",
    "<br>\n",
    "<br>\n",
    "<div><font color=#069FAB size=5>۲.۲. استخراج ژن‌ها</font></div>\n",
    "در مرحله اول نیاز است که اطلاعات را از فایل‌های مربوط به ژنوم گونه‌های مختلف بخوانیم.\n",
    "<br>\n",
    "برای این‌کار ابتدا فرمت تمامی فایل‌ها را به .txt تغییر دادم. سپس با دستور open در پایتون تمامی فایل‌ها را باز کردم.\n",
    "</font>\n",
    "</div>"
   ]
  },
  {
   "cell_type": "code",
   "execution_count": 1,
   "metadata": {
    "collapsed": false
   },
   "outputs": [],
   "source": [
    "# Reading Files\n",
    "\n",
    "# EBOLA\n",
    "zaire = open(\"BioProjectFiles/Zaire_genome.txt\", \"r\")\n",
    "sudan = open(\"BioProjectFiles/Sudan_genome.txt\", \"r\")\n",
    "reston = open(\"BioProjectFiles/Reston_genome.txt\", \"r\")\n",
    "tai_forest = open(\"BioProjectFiles/TaiForest_genome.txt\", \"r\")\n",
    "bundibugyo = open(\"BioProjectFiles/Bundibugyo_genome.txt\", \"r\")\n",
    "\n",
    "# Marberg\n",
    "marberg = open(\"BioProjectFiles/Marburg_genome.txt\", \"r\")"
   ]
  },
  {
   "cell_type": "markdown",
   "metadata": {
    "editable": true
   },
   "source": [
    "<div style=\"direction:rtl;line-height:300%;\"><font face=\"XB Zar\" size=4>\n",
    "سپس با توجه به فرمت fasta نیاز است خط اول هر فایل را نادیده بگیریم.\n",
    "</font>\n",
    "</div>"
   ]
  },
  {
   "cell_type": "code",
   "execution_count": 2,
   "metadata": {
    "collapsed": false
   },
   "outputs": [
    {
     "data": {
      "text/plain": [
       "'> Marburg\\n'"
      ]
     },
     "execution_count": 2,
     "metadata": {},
     "output_type": "execute_result"
    }
   ],
   "source": [
    "# Reading First Line\n",
    "zaire.readline()\n",
    "sudan.readline()\n",
    "reston.readline()\n",
    "tai_forest.readline()\n",
    "bundibugyo.readline()\n",
    "marberg.readline()"
   ]
  },
  {
   "cell_type": "markdown",
   "metadata": {
    "editable": true
   },
   "source": [
    "<div style=\"direction:rtl;line-height:300%;\"><font face=\"XB Zar\" size=4>\n",
    "حال خط به خط فایل‌ها را میخوانیم و اطلاعات ژنوم هر گونه را در آرایه‌ای مربوط به آن گونه میریزیم.\n",
    "</font>\n",
    "</div>"
   ]
  },
  {
   "cell_type": "code",
   "execution_count": 3,
   "metadata": {
    "collapsed": true
   },
   "outputs": [],
   "source": [
    "# Declare Array, Empty List\n",
    "zaire_genome = []\n",
    "for line in zaire:\n",
    "    #  lowercased string\n",
    "    line = line.lower()\n",
    "    for char in line:\n",
    "        if char == 'a' or char == 't' or char == 'c' or char == 'g':\n",
    "            zaire_genome.append(char)\n",
    "\n",
    "            \n",
    "# Declare Array, Empty List\n",
    "sudan_genome = []\n",
    "for line in sudan:\n",
    "    #  lowercased string\n",
    "    line = line.lower()\n",
    "    for char in line:\n",
    "        if char == 'a' or char == 't' or char == 'c' or char == 'g':\n",
    "            sudan_genome.append(char)\n",
    "\n",
    "            \n",
    "# Declare Array, Empty List\n",
    "reston_genome = []\n",
    "for line in reston:\n",
    "    #  lowercased string\n",
    "    line = line.lower()\n",
    "    for char in line:\n",
    "        # check whether the letter is among A, G, C, or T\n",
    "        if char == 'a' or char == 't' or char == 'c' or char == 'g':\n",
    "            reston_genome.append(char)\n",
    "\n",
    "            \n",
    "# Declare Array, Empty List\n",
    "tai_forest_genome = []\n",
    "for line in tai_forest:\n",
    "    #  lowercased string\n",
    "    line = line.lower()\n",
    "    for char in line:\n",
    "        # check whether the letter is among A, G, C, or T\n",
    "        if char == 'a' or char == 't' or char == 'c' or char == 'g':\n",
    "            tai_forest_genome.append(char)\n",
    "\n",
    "            \n",
    "# Declare Array, Empty List\n",
    "bundibugyo_genome = []\n",
    "for line in bundibugyo:\n",
    "    #  lowercased string\n",
    "    line = line.lower()\n",
    "    for char in line:\n",
    "        # check whether the letter is among A, G, C, or T\n",
    "        if char == 'a' or char == 't' or char == 'c' or char == 'g':\n",
    "            bundibugyo_genome.append(char)\n",
    "\n",
    "            \n",
    "# Declare Array, Empty List\n",
    "marberg_genome = []\n",
    "for line in marberg:\n",
    "    #  lowercased string\n",
    "    line = line.lower()\n",
    "    for char in line:\n",
    "        # check whether the letter is among A, G, C, or T\n",
    "        if char == 'a' or char == 't' or char == 'c' or char == 'g':\n",
    "            marberg_genome.append(char)"
   ]
  },
  {
   "cell_type": "markdown",
   "metadata": {
    "editable": true
   },
   "source": [
    "<div style=\"direction:rtl;line-height:300%;\"><font face=\"XB Zar\" size=4>\n",
    "حال همان کار‌های بالا را برای ژن های مختلف marberg انجام می‌دهیم.\n",
    "<br>\n",
    "marberg دارای ژن‌های NP, VP35, VP40, GP, VP30, VP24 و L می‌باشد.\n",
    "</font>\n",
    "</div>"
   ]
  },
  {
   "cell_type": "code",
   "execution_count": 4,
   "metadata": {
    "collapsed": true
   },
   "outputs": [],
   "source": [
    "marberg = open(\"BioProjectFiles/Marburg_Genes.txt\", \"r\")\n",
    "# Reading First Line\n",
    "marberg.readline()\n",
    "# Declare Array, Empty List\n",
    "NP = []\n",
    "for line in marberg:\n",
    "    # New Gene\n",
    "    if '>' in line:\n",
    "        break\n",
    "    #  lowercased string\n",
    "    line = line.lower()\n",
    "    # check whether the letter is among A, G, C, or T\n",
    "    for char in line:\n",
    "        if char == 'a' or char == 't' or char == 'c' or char == 'g':\n",
    "            NP.append(char)\n",
    "     \n",
    "# Declare Array, Empty List            \n",
    "VP35 = []\n",
    "for line in marberg:\n",
    "    # New Gene\n",
    "    if '>' in line:\n",
    "        break\n",
    "    # lowercased string\n",
    "    line = line.lower()\n",
    "    for char in line:\n",
    "        # check whether the letter is among A, G, C, or T\n",
    "        if char == 'a' or char == 't' or char == 'c' or char == 'g':\n",
    "            VP35.append(char)\n",
    "\n",
    "# Declare Array, Empty List            \n",
    "VP40 = []\n",
    "for line in marberg:\n",
    "    # New Gene\n",
    "    if '>' in line:\n",
    "        break\n",
    "    # lowercased string\n",
    "    line = line.lower()\n",
    "    for char in line:\n",
    "        # check whether the letter is among A, G, C, or T\n",
    "        if char == 'a' or char == 't' or char == 'c' or char == 'g':\n",
    "            VP40.append(char)\n",
    "            \n",
    "# Declare Array, Empty List\n",
    "GP = []\n",
    "for line in marberg:\n",
    "    # New Gene\n",
    "    if '>' in line:\n",
    "        break\n",
    "    # lowercased string\n",
    "    line = line.lower()\n",
    "    for char in line:\n",
    "        # check whether the letter is among A, G, C, or T\n",
    "        if char == 'a' or char == 't' or char == 'c' or char == 'g':\n",
    "            GP.append(char)\n",
    "            \n",
    "# Declare Array, Empty List\n",
    "VP30 = []\n",
    "for line in marberg:\n",
    "    # New Gene\n",
    "    if '>' in line:\n",
    "        break\n",
    "    # lowercased string\n",
    "    line = line.lower()\n",
    "    for char in line:\n",
    "        # check whether the letter is among A, G, C, or T\n",
    "        if char == 'a' or char == 't' or char == 'c' or char == 'g':\n",
    "            VP30.append(char)\n",
    "\n",
    "# Declare Array, Empty List\n",
    "VP24 = []\n",
    "for line in marberg:\n",
    "    # New Gene\n",
    "    if '>' in line:\n",
    "        break\n",
    "    # lowercased string\n",
    "    line = line.lower()\n",
    "    for char in line:\n",
    "        # check whether the letter is among A, G, C, or T\n",
    "        if char == 'a' or char == 't' or char == 'c' or char == 'g':\n",
    "            VP24.append(char)\n",
    "            \n",
    "# Declare Array, Empty List\n",
    "L = []\n",
    "for line in marberg:\n",
    "    # New Gene\n",
    "    if '>' in line:\n",
    "        break\n",
    "    # lowercased string\n",
    "    line = line.lower()\n",
    "    for char in line:\n",
    "        # check whether the letter is among A, G, C, or T\n",
    "        if char == 'a' or char == 't' or char == 'c' or char == 'g':\n",
    "            L.append(char)\n"
   ]
  },
  {
   "cell_type": "markdown",
   "metadata": {
    "editable": true
   },
   "source": [
    "<div style=\"direction:rtl;line-height:300%;\"><font face=\"XB Zar\" size=4>\n",
    "ابتدا رشته تمام آرایه‌های ژن‌های ماربرگ و ژنوم گونه‌های مختلف را به وجود میاوریم که بتوانیم از الگوریتم‌های alignment موجود در کتابخانه Bio پایتون استفاده کنیم.\n",
    "</font>\n",
    "</div>"
   ]
  },
  {
   "cell_type": "code",
   "execution_count": 5,
   "metadata": {
    "collapsed": false
   },
   "outputs": [],
   "source": [
    "# Casting to string\n",
    "zaire = ''.join(zaire_genome)\n",
    "sudan = ''.join(sudan_genome)\n",
    "reston = ''.join(reston_genome)\n",
    "tai_forest = ''.join(tai_forest_genome)\n",
    "bundibugyo = ''.join(bundibugyo_genome)\n",
    "np = ''.join(NP)\n",
    "vp35 = ''.join(VP35)\n",
    "vp40 = ''.join(VP40)\n",
    "gp = ''.join(GP)\n",
    "vp30 = ''.join(VP30)\n",
    "vp24 = ''.join(VP24)\n",
    "l = ''.join(L)"
   ]
  },
  {
   "cell_type": "markdown",
   "metadata": {
    "editable": true
   },
   "source": [
    "<div style=\"direction:rtl;line-height:300%;\"><font face=\"XB Zar\" size=4>\n",
    "چون alignment به کل ژنوم هر موجود بسیار طول می‌کشد و این که ما ترتیب ژن‌ها و طول تقریبی آن ها را می‌دانیم نیازی نیست alignment را بر روس کل ژنوم هر موجود انجام دهیم. \n",
    "<br>\n",
    "برای هر ژنوم محدوده‌ای از ژنوم را در نظر می‌گیریم و از الگوریتم local alignment استفاده می‌کنیم.\n",
    "بازه الاینمنت را از ۵۰۰ تا قبل از جای پیشبینی شده تا ۲ برابر طول آن قرار می‌دهیم. \n",
    "در local alignment اگر امتیاز‌ها را به صورت ۱ برای match و -۱ برای سایر موارد(mismatch و gap) قرار دهیم هزینه شکاف‌های ابتدایی و انتهایی صفر می‌شود.\n",
    "<br>\n",
    "در واقع تابع localms را به صورت زیر فراخوانی می‌کنیم:\n",
    "<br>\n",
    "localms (seq1, seq2, 1, -1, -1, -1)\n",
    "</font>\n",
    "</div>"
   ]
  },
  {
   "cell_type": "code",
   "execution_count": 6,
   "metadata": {
    "collapsed": false
   },
   "outputs": [],
   "source": [
    "from Bio import pairwise2\n",
    "\n",
    "# zaire\n",
    "# NP\n",
    "zaire1 = zaire[0 : len(NP) * 2]\n",
    "alignment_zaire1 = pairwise2.align.localms(zaire1, np, 1, -1, -1, -1)\n",
    "\n",
    "# VP35\n",
    "zaire2 = zaire[len(np) - 500: len(np) + len(vp35) * 2]\n",
    "alignment_zaire2 = pairwise2.align.localms(zaire2, vp35, 1, -1, -1, -1)\n",
    "\n",
    "# VP40\n",
    "zaire3 = zaire[len(np) + len(vp35) - 500: len(np) + len(vp35) + len(vp40) * 2]\n",
    "alignment_zaire3 = pairwise2.align.localms(zaire3, vp40, 1, -1, -1, -1)\n",
    "\n",
    "# GP\n",
    "zaire4 = zaire[len(np) + len(vp35) + len(vp40) - 500: len(np) + len(vp35) + len(vp40) + len(gp) * 2]\n",
    "alignment_zaire4 = pairwise2.align.localms(zaire4, gp, 1, -1, -1, -1)\n",
    "\n",
    "# VP30\n",
    "zaire5 = zaire[len(np) + len(vp35) + len(vp40) + len(gp) - 500: len(np) + len(vp35) + len(vp40) + len(gp) + len(vp30) * 2]\n",
    "alignment_zaire5 = pairwise2.align.localms(zaire5, vp30,  1, -1, -1, -1)\n",
    "\n",
    "# VP24\n",
    "zaire6 = zaire[len(np) + len(vp35) + len(vp40) + len(gp) + len(vp30) - 500: len(np) + len(vp35) + len(vp40) + len(gp) + len(vp30) + len(vp24) * 2]\n",
    "alignment_zaire6 = pairwise2.align.localms(zaire6, vp24, 1, -1, -1, -1)\n"
   ]
  },
  {
   "cell_type": "code",
   "execution_count": 7,
   "metadata": {
    "collapsed": true
   },
   "outputs": [],
   "source": [
    "# sudan\n",
    "# NP\n",
    "sudan1 = sudan[0:len(np) * 2]\n",
    "alignment_sudan1 = pairwise2.align.localms(sudan1, np,  1, -1, -1, -1)\n",
    "\n",
    "# VP35\n",
    "sudan2 = sudan[len(np) - 500: len(np) + len(vp35) * 2]\n",
    "alignment_sudan2 = pairwise2.align.localms(sudan2, vp35,  1, -1, -1, -1)\n",
    "\n",
    "# VP40\n",
    "sudan3 = sudan[len(np) + len(vp35) - 500: len(np) + len(vp35) + len(vp40) * 2]\n",
    "alignment_sudan3 = pairwise2.align.localms(sudan3, vp40,  1, -1, -1, -1)\n",
    "\n",
    "# GP\n",
    "sudan4 = sudan[len(np) + len(vp35) + len(vp40) - 500: len(np) + len(vp35) + len(vp40) + len(gp) * 2]\n",
    "alignment_sudan4 = pairwise2.align.localms(sudan4, gp,  1, -1, -1, -1)\n",
    "\n",
    "# VP30\n",
    "sudan5 = sudan[len(np) + len(vp35) + len(vp40) + len(gp) - 500: len(np) + len(vp35) + len(vp40) + len(gp) + len(vp30) * 2]\n",
    "alignment_sudan5 = pairwise2.align.localms(sudan5, vp30,  1, -1, -1, -1)\n",
    "\n",
    "# VP24\n",
    "sudan6 = sudan[len(np) + len(vp35) + len(vp40) + len(gp) + len(vp30) - 500 : len(np) + len(vp35) + len(vp40) + len(gp) + len(vp30) + len(vp24) * 2]\n",
    "alignment_sudan6 = pairwise2.align.localms(sudan6, vp24,  1, -1, -1, -1)\n"
   ]
  },
  {
   "cell_type": "code",
   "execution_count": 8,
   "metadata": {
    "collapsed": true
   },
   "outputs": [],
   "source": [
    "# reston\n",
    "# NP\n",
    "reston1 = reston[0:len(np) * 2]\n",
    "alignment_reston1 = pairwise2.align.localms(reston1, np,  1, -1, -1, -1)\n",
    "\n",
    "# VP35\n",
    "reston2 = reston[len(np) - 500: len(np) + len(vp35) * 2]\n",
    "alignment_reston2 = pairwise2.align.localms(reston2, vp35,  1, -1, -1, -1)\n",
    "\n",
    "# VP40\n",
    "reston3 = reston[len(np) + len(vp35) - 500: len(np) + len(vp35) + len(vp40) * 2]\n",
    "alignment_reston3 = pairwise2.align.localms(reston3, vp40,  1, -1, -1, -1)\n",
    "\n",
    "# GP\n",
    "reston4 = reston[len(np) + len(vp35) + len(vp40) - 500: len(np) + len(vp35) + len(vp40) + len(gp) * 2]\n",
    "alignment_reston4 = pairwise2.align.localms(reston4, gp,  1, -1, -1, -1)\n",
    "\n",
    "# VP30\n",
    "reston5 = reston[len(np) + len(vp35) + len(vp40) + len(gp) - 500: len(np) + len(vp35) + len(vp40) + len(gp) + len(vp30) * 2]\n",
    "alignment_reston5 = pairwise2.align.localms(reston5, vp30,  1, -1, -1, -1)\n",
    "\n",
    "# VP24\n",
    "reston6 = reston[len(np) + len(vp35) + len(vp40) + len(gp) + len(vp30) - 500: len(np) + len(vp35) + len(vp40) + len(gp) + len(vp30) + len(vp24) * 2]\n",
    "alignment_reston6 = pairwise2.align.localms(reston6, vp24,  1, -1, -1, -1)\n"
   ]
  },
  {
   "cell_type": "code",
   "execution_count": 9,
   "metadata": {
    "collapsed": true
   },
   "outputs": [],
   "source": [
    "# tai_forest\n",
    "# NP\n",
    "tai_forest1 = tai_forest[0:len(np) * 2]\n",
    "alignment_tai_forest1 = pairwise2.align.localms(tai_forest1, np, 1, -1, -1, -1)\n",
    "\n",
    "# VP35\n",
    "tai_forest2 = tai_forest[len(np) - 500: len(np) + len(vp35) * 2]\n",
    "alignment_tai_forest2 = pairwise2.align.localms(tai_forest2, vp35, 1, -1, -1, -1)\n",
    "\n",
    "# VP40\n",
    "tai_forest3 = tai_forest[len(np) + len(vp35) - 500: len(np) + len(vp35) + len(vp40) * 2]\n",
    "alignment_tai_forest3 = pairwise2.align.localms(tai_forest3, vp40, 1, -1, -1, -1)\n",
    "\n",
    "# GP\n",
    "tai_forest4 = tai_forest[len(np) + len(vp35) + len(vp40) - 500: len(np) + len(vp35) + len(vp40) + len(gp) * 2]\n",
    "alignment_tai_forest4 = pairwise2.align.localms(tai_forest4, gp, 1, -1, -1, -1)\n",
    "\n",
    "# VP30\n",
    "tai_forest5 = tai_forest[len(np) + len(vp35) + len(vp40) + len(gp) - 500: len(np) + len(vp35) + len(vp40) + len(gp) + len(vp30) * 2]\n",
    "alignment_tai_forest5 = pairwise2.align.localms(tai_forest5, vp30, 1, -1, -1, -1)\n",
    "\n",
    "# VP24\n",
    "tai_forest6 = tai_forest[len(np) + len(vp35) + len(vp40) + len(gp) + len(vp30) - 500: len(np) + len(vp35) + len(vp40) + len(gp) + len(vp30) + len(vp24) * 2]\n",
    "alignment_tai_forest6 = pairwise2.align.localms(tai_forest6, vp24, 1, -1, -1, -1)\n"
   ]
  },
  {
   "cell_type": "code",
   "execution_count": 10,
   "metadata": {
    "collapsed": false
   },
   "outputs": [],
   "source": [
    "# bundibugyo\n",
    "# NP\n",
    "bundibugyo1 = bundibugyo[0:len(np) * 2]\n",
    "alignment_bundibugyo1 = pairwise2.align.localms(bundibugyo1, np, 1, -1, -1, -1)\n",
    "\n",
    "# VP35\n",
    "bundibugyo2 = bundibugyo[len(np) - 500: len(np) + len(vp35) * 2]\n",
    "alignment_bundibugyo2 = pairwise2.align.localms(bundibugyo2, vp35, 1, -1, -1, -1)\n",
    "\n",
    "# VP40\n",
    "bundibugyo3 = bundibugyo[len(np) + len(vp35) - 500: len(np) + len(vp35) + len(vp40) * 2]\n",
    "alignment_bundibugyo3 = pairwise2.align.localms(bundibugyo3, vp40, 1, -1, -1, -1)\n",
    "\n",
    "# GP\n",
    "bundibugyo4 = bundibugyo[len(np) + len(vp35) + len(vp40) - 500: len(np) + len(vp35) + len(vp40) + len(gp) * 2]\n",
    "alignment_bundibugyo4 = pairwise2.align.localms(bundibugyo4, gp, 1, -1, -1, -1)\n",
    "\n",
    "# VP30\n",
    "bundibugyo5 = bundibugyo[len(np) + len(vp35) + len(vp40) + len(gp) - 500: len(np) + len(vp35) + len(vp40) + len(gp) + len(vp30) * 2]\n",
    "alignment_bundibugyo5 = pairwise2.align.localms(bundibugyo5, vp30, 1, -1, -1, -1)\n",
    "\n",
    "# VP24\n",
    "bundibugyo6 = bundibugyo[len(np) + len(vp35) + len(vp40) + len(gp) + len(vp30) - 500: len(np) + len(vp35) + len(vp40) + len(gp) + len(vp30) + len(vp24) * 2]\n",
    "alignment_bundibugyo6 = pairwise2.align.localms(bundibugyo6, vp24, 1, -1, -1, -1)\n"
   ]
  },
  {
   "cell_type": "markdown",
   "metadata": {},
   "source": [
    "<div style=\"direction:rtl;line-height:300%;\"><font face=\"XB Zar\" size=4>\n",
    "تنها مشکل این روش زمان طولانی اجرای آن برای رشته‌های بلند می‌باشد. به همین دلیل برای ژن L ناچار به دوقسمت کردن این ژن شدم.\n",
    "</font>\n",
    "</div>"
   ]
  },
  {
   "cell_type": "code",
   "execution_count": 11,
   "metadata": {
    "collapsed": false
   },
   "outputs": [],
   "source": [
    "# L\n",
    "# zaire\n",
    "zaire7 = zaire[len(np) + len(vp35) + len(vp40) + len(gp) + len(vp30) + len(vp24) - 500: len(np) + len(vp35) + len(vp40) + len(gp) + len(vp30) + len(vp24) + len(l)]\n",
    "alignment_zaire7_1 = pairwise2.align.globalms(zaire7, l[:int(len(l)/2)], 1, -1, -1, -1)\n",
    "alignment_zaire7_2 = pairwise2.align.globalms(zaire7, l[int(len(l)/2):], 1, -1, -1, -1)\n",
    "\n",
    "# sudan\n",
    "sudan7 = sudan[len(np) + len(vp35) + len(vp40) + len(gp) + len(vp30) + len(vp24) - 1000: len(np) + len(vp35) + len(vp40) + len(gp) + len(vp30) + len(vp24) + len(l)]\n",
    "alignment_sudan7_1 = pairwise2.align.globalms(sudan7, l[:int(len(l)/2)],  1, -1, -1, -1)\n",
    "alignment_sudan7_2 = pairwise2.align.globalms(sudan7, l[int(len(l)/2):],  1, -1, -1, -1)\n",
    "\n",
    "# reston\n",
    "reston7 = reston[len(np) + len(vp35) + len(vp40) + len(gp) + len(vp30) + len(vp24) - 1000: len(np) + len(vp35) + len(vp40) + len(gp) + len(vp30) + len(vp24) + len(l)]\n",
    "alignment_reston7_1 = pairwise2.align.globalms(reston7, l[:int(len(l)/2)],  1, -1, -1, -1)\n",
    "alignment_reston7_2 = pairwise2.align.globalms(reston7, l[int(len(l)/2):],  1, -1, -1, -1)\n",
    "\n",
    "# tai_forest\n",
    "tai_forest7 = tai_forest[len(np) + len(vp35) + len(vp40) + len(gp) + len(vp30) + len(vp24) - 1000: len(np) + len(vp35) + len(vp40) + len(gp) + len(vp30) + len(vp24) + len(l)]\n",
    "alignment_tai_forest7_1 = pairwise2.align.globalms(tai_forest7, l[:int(len(l)/2)], 1, -1, -1, -1)\n",
    "alignment_tai_forest7_2 = pairwise2.align.globalms(tai_forest7, l[int(len(l)/2):], 1, -1, -1, -1)\n",
    "\n",
    "# bundibugyo\n",
    "bundibugyo7 = bundibugyo[len(np) + len(vp35) + len(vp40) + len(gp) + len(vp30) + len(vp24) - 1000: len(np) + len(vp35) + len(vp40) + len(gp) + len(vp30) + len(vp24) + len(l)]\n",
    "alignment_bundibugyo7_1 = pairwise2.align.globalms(bundibugyo7, l[:int(len(l)/2)], 1, -1, -1, -1)\n",
    "alignment_bundibugyo7_2 = pairwise2.align.globalms(bundibugyo7, l[int(len(l)/2):], 1, -1, -1, -1)\n"
   ]
  },
  {
   "cell_type": "markdown",
   "metadata": {
    "editable": true
   },
   "source": [
    "<div style=\"direction:rtl;line-height:300%;\"><font face=\"XB Zar\" size=4>\n",
    "<div><font color=#069FAB size=5>۲.۳. هم‌ترازی ژن‌ها</font></div>\n",
    "در این مرحله برای هر ژن یک ماتریس ۵ در ۵ تشکیل می‌دهیم. هر بعد هر ماتریس نشان‌دهنده ژن یک گونه خاص می‌باشد.\n",
    "<br> الگوریتم نیدلمن وانچک همترازی سراسری بر دو ترتیب متوالی (مانند A و B) انجام می‌دهد. معمولاً در بیوانفورماتیک برای همترازی توالی‌های پروتئینی یا نوکلئوتیدی کاربرد دارد.\n",
    "<br> برای به دست آوردن فاصله بین دو موجود در هر ژن از الگوریتم global alignment با امتیاز‌های 0 برای match و -۱ برای سایر موارد استفاده شده‌است. چون distance matrix باید شامل اعدادی مثبت شود در نهایت هر خانه ماتریس در -۱ ضرب شده‌است.\n",
    "</font>\n",
    "</div>"
   ]
  },
  {
   "cell_type": "code",
   "execution_count": 12,
   "metadata": {
    "collapsed": false
   },
   "outputs": [
    {
     "name": "stdout",
     "output_type": "stream",
     "text": [
      "[[0, 1092.0, 1124.0, 1024.0, 1044.0], [1092.0, 0, 1137.0, 1175.0, 1156.0], [1124.0, 1137.0, 0, 1177.0, 1166.0], [1024.0, 1175.0, 1177.0, 0, 921.0], [1044.0, 1156.0, 1166.0, 921.0, 0]]\n"
     ]
    }
   ],
   "source": [
    "# NP Matrix\n",
    "# Outputs of local alignments\n",
    "aln_zaire1, aln_np, score, b1, e1 = alignment_zaire1[0]\n",
    "aln_sudan1, aln_np, score, b2, e2 = alignment_sudan1[0]\n",
    "aln_reston1, aln_np, score, b3, e3 = alignment_reston1[0]\n",
    "aln_tai_forest1, aln_np, score, b4, e4 = alignment_tai_forest1[0]\n",
    "aln_bundibugyo1, aln_np, score, b5, e5 = alignment_bundibugyo1[0]\n",
    "\n",
    "# computing end of gene\n",
    "e1 = len(aln_zaire1) - len(aln_zaire1[e1:])\n",
    "e2 = len(aln_sudan1) - len(aln_sudan1[e2:])\n",
    "e3 = len(aln_reston1) - len(aln_reston1[e3:])\n",
    "e4 = len(aln_tai_forest1) - len(aln_tai_forest1[e4:])\n",
    "e5 = len(aln_bundibugyo1) - len(aln_bundibugyo1[e5:])\n",
    "\n",
    "# initiating 5*5 matrix with zeros\n",
    "matrix_np = []\n",
    "for i in range(5):\n",
    "    matrix_np.append([])\n",
    "    for j in range(5):\n",
    "        matrix_np[i].append(0)\n",
    "\n",
    "matrix_np[0][1] = matrix_np[1][0] = -1 * max(a[2] for a in pairwise2.align.globalms(zaire1[b1:e1], sudan1[b2:e2], 0, -1, -1, -1))\n",
    "matrix_np[0][2] = matrix_np[2][0] = -1 * max(a[2] for a in pairwise2.align.globalms(zaire1[b1:e1], reston1[b3:e3], 0, -1, -1, -1))\n",
    "matrix_np[0][3] = matrix_np[3][0] = -1 * max(a[2] for a in pairwise2.align.globalms(zaire1[b1:e1], tai_forest1[b4:e4], 0, -1, -1, -1))\n",
    "matrix_np[0][4] = matrix_np[4][0] = -1 * max(a[2] for a in pairwise2.align.globalms(zaire1[b1:e1], bundibugyo1[b5:e5], 0, -1, -1, -1))\n",
    "matrix_np[1][2] = matrix_np[2][1] = -1 * max(a[2] for a in pairwise2.align.globalms(sudan1[b2:e2], reston1[b3:e3], 0, -1, -1, -1))\n",
    "matrix_np[1][3] = matrix_np[3][1] = -1 * max(a[2] for a in pairwise2.align.globalms(sudan1[b2:e2], tai_forest1[b4:e4], 0, -1, -1, -1))\n",
    "matrix_np[1][4] = matrix_np[4][1] = -1 * max(a[2] for a in pairwise2.align.globalms(sudan1[b2:e2], bundibugyo1[b5:e5], 0, -1, -1, -1))\n",
    "matrix_np[2][3] = matrix_np[3][2] = -1 * max(a[2] for a in pairwise2.align.globalms(reston1[b3:e3], tai_forest1[b4:e4], 0, -1, -1, -1))\n",
    "matrix_np[2][4] = matrix_np[4][2] = -1 * max(a[2] for a in pairwise2.align.globalms(reston1[b3:e3], bundibugyo1[b5:e5], 0, -1, -1, -1))\n",
    "matrix_np[3][4] = matrix_np[4][3] = -1 * max(a[2] for a in pairwise2.align.globalms(tai_forest1[b4:e4], bundibugyo1[b5:e5], 0, -1, -1, -1))\n",
    "\n",
    "print(matrix_np)\n"
   ]
  },
  {
   "cell_type": "markdown",
   "metadata": {
    "editable": true
   },
   "source": [
    "<div style=\"direction:rtl;line-height:300%;\"><font face=\"XB Zar\" size=4>\n",
    "حال به ذخیره‌سازی این ماتریس‌ در فایل csv می‌پردازیم.\n",
    "</font>\n",
    "</div>"
   ]
  },
  {
   "cell_type": "code",
   "execution_count": 13,
   "metadata": {
    "collapsed": true
   },
   "outputs": [],
   "source": [
    "import numpy\n",
    "a = numpy.asarray(matrix_np)\n",
    "numpy.savetxt(\"csv/NP.csv\", a, delimiter=\",\")"
   ]
  },
  {
   "cell_type": "code",
   "execution_count": 14,
   "metadata": {
    "collapsed": false
   },
   "outputs": [
    {
     "name": "stdout",
     "output_type": "stream",
     "text": [
      "[[0, 699.0, 646.0, 672.0, 649.0], [699.0, 0, 710.0, 714.0, 661.0], [646.0, 710.0, 0, 736.0, 722.0], [672.0, 714.0, 736.0, 0, 602.0], [649.0, 661.0, 722.0, 602.0, 0]]\n"
     ]
    }
   ],
   "source": [
    "# VP35 Matrix\n",
    "# Outputs of local alignments\n",
    "aln_zaire2, aln_np, score, b1, e1 = alignment_zaire2[0]\n",
    "aln_sudan2, aln_np, score, b2, e2 = alignment_sudan2[0]\n",
    "aln_reston2, aln_np, score, b3, e3 = alignment_reston2[0]\n",
    "aln_tai_forest2, aln_np, score, b4, e4 = alignment_tai_forest2[0]\n",
    "aln_bundibugyo2, aln_np, score, b5, e5 = alignment_bundibugyo2[0]\n",
    "\n",
    "# computing end of gene\n",
    "e1 = len(aln_zaire2) - len(aln_zaire2[e1:])\n",
    "e2 = len(aln_sudan2) - len(aln_sudan2[e2:])\n",
    "e3 = len(aln_reston2) - len(aln_reston2[e3:])\n",
    "e4 = len(aln_tai_forest2) - len(aln_tai_forest2[e4:])\n",
    "e5 = len(aln_bundibugyo2) - len(aln_bundibugyo2[e5:])\n",
    "\n",
    "# initiating 5*5 matrix with zeros\n",
    "matrix_vp35 = []\n",
    "for i in range(5):\n",
    "    matrix_vp35.append([])\n",
    "    for j in range(5):\n",
    "        matrix_vp35[i].append(0)\n",
    "\n",
    "matrix_vp35[0][1] = matrix_vp35[1][0] = -1 * max(a[2] for a in pairwise2.align.globalms(zaire2[b1:e1], sudan2[b2:e2], 0, -1, -1, -1))\n",
    "matrix_vp35[0][2] = matrix_vp35[2][0] = -1 * max(a[2] for a in pairwise2.align.globalms(zaire2[b1:e1], reston2[b3:e3], 0, -1, -1, -1))\n",
    "matrix_vp35[0][3] = matrix_vp35[3][0] = -1 * max(a[2] for a in pairwise2.align.globalms(zaire2[b1:e1], tai_forest2[b4:e4], 0, -1, -1, -1))\n",
    "matrix_vp35[0][4] = matrix_vp35[4][0] = -1 * max(a[2] for a in pairwise2.align.globalms(zaire2[b1:e1], bundibugyo2[b5:e5], 0, -1, -1, -1))\n",
    "matrix_vp35[1][2] = matrix_vp35[2][1] = -1 * max(a[2] for a in pairwise2.align.globalms(sudan2[b2:e2], reston2[b3:e3], 0, -1, -1, -1))\n",
    "matrix_vp35[1][3] = matrix_vp35[3][1] = -1 * max(a[2] for a in pairwise2.align.globalms(sudan2[b2:e2], tai_forest2[b4:e4], 0, -1, -1, -1))\n",
    "matrix_vp35[1][4] = matrix_vp35[4][1] = -1 * max(a[2] for a in pairwise2.align.globalms(sudan2[b2:e2], bundibugyo2[b5:e5], 0, -1, -1, -1))\n",
    "matrix_vp35[2][3] = matrix_vp35[3][2] = -1 * max(a[2] for a in pairwise2.align.globalms(reston2[b3:e3], tai_forest2[b4:e4], 0, -1, -1, -1))\n",
    "matrix_vp35[2][4] = matrix_vp35[4][2] = -1 * max(a[2] for a in pairwise2.align.globalms(reston2[b3:e3], bundibugyo2[b5:e5], 0, -1, -1, -1))\n",
    "matrix_vp35[3][4] = matrix_vp35[4][3] = -1 * max(a[2] for a in pairwise2.align.globalms(tai_forest2[b4:e4], bundibugyo2[b5:e5], 0, -1, -1, -1))\n",
    "\n",
    "print(matrix_vp35)"
   ]
  },
  {
   "cell_type": "code",
   "execution_count": 15,
   "metadata": {
    "collapsed": true
   },
   "outputs": [],
   "source": [
    "import numpy\n",
    "a = numpy.asarray(matrix_vp35)\n",
    "numpy.savetxt(\"csv/VP35.csv\", a, delimiter=\",\")"
   ]
  },
  {
   "cell_type": "code",
   "execution_count": 16,
   "metadata": {
    "collapsed": false
   },
   "outputs": [
    {
     "name": "stdout",
     "output_type": "stream",
     "text": [
      "[[0, 665.0, 634.0, 656.0, 842.0], [665.0, 0, 613.0, 637.0, 857.0], [634.0, 613.0, 0, 587.0, 828.0], [656.0, 637.0, 587.0, 0, 821.0], [842.0, 857.0, 828.0, 821.0, 0]]\n"
     ]
    }
   ],
   "source": [
    "# VP40 Matrix\n",
    "# Outputs of local alignments\n",
    "aln_zaire3, aln_np, score, b1, e1 = alignment_zaire3[0]\n",
    "aln_sudan3, aln_np, score, b2, e2 = alignment_sudan3[0]\n",
    "aln_reston3, aln_np, score, b3, e3 = alignment_reston3[0]\n",
    "aln_tai_forest3, aln_np, score, b4, e4 = alignment_tai_forest3[0]\n",
    "aln_bundibugyo3, aln_np, score, b5, e5 = alignment_bundibugyo3[0]\n",
    "\n",
    "# computing end of gene\n",
    "e1 = len(aln_zaire3) - len(aln_zaire3[e1:])\n",
    "e2 = len(aln_sudan3) - len(aln_sudan3[e2:])\n",
    "e3 = len(aln_reston3) - len(aln_reston3[e3:])\n",
    "e4 = len(aln_tai_forest3) - len(aln_tai_forest3[e4:])\n",
    "e5 = len(aln_bundibugyo3) - len(aln_bundibugyo3[e5:])\n",
    "\n",
    "# initiating 5*5 matrix with zeros\n",
    "matrix_vp40 = []\n",
    "for i in range(5):\n",
    "    matrix_vp40.append([])\n",
    "    for j in range(5):\n",
    "        matrix_vp40[i].append(0)\n",
    "\n",
    "matrix_vp40[0][1] = matrix_vp40[1][0] = -1 * max(a[2] for a in pairwise2.align.globalms(zaire3[b1:e1], sudan3[b2:e2], 0, -1, -1, -1))\n",
    "matrix_vp40[0][2] = matrix_vp40[2][0] = -1 * max(a[2] for a in pairwise2.align.globalms(zaire3[b1:e1], reston3[b3:e3], 0, -1, -1, -1))\n",
    "matrix_vp40[0][3] = matrix_vp40[3][0] = -1 * max(a[2] for a in pairwise2.align.globalms(zaire3[b1:e1], tai_forest3[b4:e4], 0, -1, -1, -1))\n",
    "matrix_vp40[0][4] = matrix_vp40[4][0] = -1 * max(a[2] for a in pairwise2.align.globalms(zaire3[b1:e1], bundibugyo3[b5:e5], 0, -1, -1, -1))\n",
    "matrix_vp40[1][2] = matrix_vp40[2][1] = -1 * max(a[2] for a in pairwise2.align.globalms(sudan3[b2:e2], reston3[b3:e3], 0, -1, -1, -1))\n",
    "matrix_vp40[1][3] = matrix_vp40[3][1] = -1 * max(a[2] for a in pairwise2.align.globalms(sudan3[b2:e2], tai_forest3[b4:e4], 0, -1, -1, -1))\n",
    "matrix_vp40[1][4] = matrix_vp40[4][1] = -1 * max(a[2] for a in pairwise2.align.globalms(sudan3[b2:e2], bundibugyo3[b5:e5], 0, -1, -1, -1))\n",
    "matrix_vp40[2][3] = matrix_vp40[3][2] = -1 * max(a[2] for a in pairwise2.align.globalms(reston3[b3:e3], tai_forest3[b4:e4], 0, -1, -1, -1))\n",
    "matrix_vp40[2][4] = matrix_vp40[4][2] = -1 * max(a[2] for a in pairwise2.align.globalms(reston3[b3:e3], bundibugyo3[b5:e5], 0, -1, -1, -1))\n",
    "matrix_vp40[3][4] = matrix_vp40[4][3] = -1 * max(a[2] for a in pairwise2.align.globalms(tai_forest3[b4:e4], bundibugyo3[b5:e5], 0, -1, -1, -1))\n",
    "\n",
    "print(matrix_vp40)"
   ]
  },
  {
   "cell_type": "code",
   "execution_count": 17,
   "metadata": {
    "collapsed": true
   },
   "outputs": [],
   "source": [
    "import numpy\n",
    "a = numpy.asarray(matrix_vp40)\n",
    "numpy.savetxt(\"csv/VP40.csv\", a, delimiter=\",\")"
   ]
  },
  {
   "cell_type": "code",
   "execution_count": 18,
   "metadata": {
    "collapsed": false
   },
   "outputs": [
    {
     "name": "stdout",
     "output_type": "stream",
     "text": [
      "[[0, 1255.0, 1227.0, 1172.0, 1109.0], [1255.0, 0, 1254.0, 1294.0, 1249.0], [1227.0, 1254.0, 0, 1314.0, 1213.0], [1172.0, 1294.0, 1314.0, 0, 1029.0], [1109.0, 1249.0, 1213.0, 1029.0, 0]]\n"
     ]
    }
   ],
   "source": [
    "# GP Matrix\n",
    "# Outputs of local alignments\n",
    "aln_zaire4, aln_np, score, b1, e1 = alignment_zaire4[0]\n",
    "aln_sudan4, aln_np, score, b2, e2 = alignment_sudan4[0]\n",
    "aln_reston4, aln_np, score, b3, e3 = alignment_reston4[0]\n",
    "aln_tai_forest4, aln_np, score, b4, e4 = alignment_tai_forest4[0]\n",
    "aln_bundibugyo4, aln_np, score, b5, e5 = alignment_bundibugyo4[0]\n",
    "\n",
    "# computing end of gene\n",
    "e1 = len(aln_zaire4) - len(aln_zaire4[e1:])\n",
    "e2 = len(aln_sudan4) - len(aln_sudan4[e2:])\n",
    "e3 = len(aln_reston4) - len(aln_reston4[e3:])\n",
    "e4 = len(aln_tai_forest4) - len(aln_tai_forest4[e4:])\n",
    "e5 = len(aln_bundibugyo4) - len(aln_bundibugyo4[e5:])\n",
    "\n",
    "# initiating 5*5 matrix with zeros\n",
    "matrix_gp = []\n",
    "for i in range(5):\n",
    "    matrix_gp.append([])\n",
    "    for j in range(5):\n",
    "        matrix_gp[i].append(0)\n",
    "\n",
    "matrix_gp[0][1] = matrix_gp[1][0] = -1 * max(a[2] for a in pairwise2.align.globalms(zaire4[b1:e1], sudan4[b2:e2], 0, -1, -1, -1))\n",
    "matrix_gp[0][2] = matrix_gp[2][0] = -1 * max(a[2] for a in pairwise2.align.globalms(zaire4[b1:e1], reston4[b3:e3], 0, -1, -1, -1))\n",
    "matrix_gp[0][3] = matrix_gp[3][0] = -1 * max(a[2] for a in pairwise2.align.globalms(zaire4[b1:e1], tai_forest4[b4:e4], 0, -1, -1, -1))\n",
    "matrix_gp[0][4] = matrix_gp[4][0] = -1 * max(a[2] for a in pairwise2.align.globalms(zaire4[b1:e1], bundibugyo4[b5:e5], 0, -1, -1, -1))\n",
    "matrix_gp[1][2] = matrix_gp[2][1] = -1 * max(a[2] for a in pairwise2.align.globalms(sudan4[b2:e2], reston4[b3:e3], 0, -1, -1, -1))\n",
    "matrix_gp[1][3] = matrix_gp[3][1] = -1 * max(a[2] for a in pairwise2.align.globalms(sudan4[b2:e2], tai_forest4[b4:e4], 0, -1, -1, -1))\n",
    "matrix_gp[1][4] = matrix_gp[4][1] = -1 * max(a[2] for a in pairwise2.align.globalms(sudan4[b2:e2], bundibugyo4[b5:e5], 0, -1, -1, -1))\n",
    "matrix_gp[2][3] = matrix_gp[3][2] = -1 * max(a[2] for a in pairwise2.align.globalms(reston4[b3:e3], tai_forest4[b4:e4], 0, -1, -1, -1))\n",
    "matrix_gp[2][4] = matrix_gp[4][2] = -1 * max(a[2] for a in pairwise2.align.globalms(reston4[b3:e3], bundibugyo4[b5:e5], 0, -1, -1, -1))\n",
    "matrix_gp[3][4] = matrix_gp[4][3] = -1 * max(a[2] for a in pairwise2.align.globalms(tai_forest4[b4:e4], bundibugyo4[b5:e5], 0, -1, -1, -1))\n",
    "\n",
    "print(matrix_gp)"
   ]
  },
  {
   "cell_type": "code",
   "execution_count": 19,
   "metadata": {
    "collapsed": true
   },
   "outputs": [],
   "source": [
    "import numpy\n",
    "a = numpy.asarray(matrix_gp)\n",
    "numpy.savetxt(\"csv/GP.csv\", a, delimiter=\",\")"
   ]
  },
  {
   "cell_type": "code",
   "execution_count": 20,
   "metadata": {
    "collapsed": false
   },
   "outputs": [
    {
     "name": "stdout",
     "output_type": "stream",
     "text": [
      "[[0, 573.0, 541.0, 568.0, 510.0], [573.0, 0, 587.0, 623.0, 575.0], [541.0, 587.0, 0, 603.0, 571.0], [568.0, 623.0, 603.0, 0, 520.0], [510.0, 575.0, 571.0, 520.0, 0]]\n"
     ]
    }
   ],
   "source": [
    "# VP30\n",
    "# Outputs of local alignments\n",
    "aln_zaire5, aln_np, score, b1, e1 = alignment_zaire5[0]\n",
    "aln_sudan5, aln_np, score, b2, e2 = alignment_sudan5[0]\n",
    "aln_reston5, aln_np, score, b3, e3 = alignment_reston5[0]\n",
    "aln_tai_forest5, aln_np, score, b4, e4 = alignment_tai_forest5[0]\n",
    "aln_bundibugyo5, aln_np, score, b5, e5 = alignment_bundibugyo5[0]\n",
    "\n",
    "# computing end of gene\n",
    "e1 = len(aln_zaire5) - len(aln_zaire5[e1:])\n",
    "e2 = len(aln_sudan5) - len(aln_sudan5[e2:])\n",
    "e3 = len(aln_reston5) - len(aln_reston5[e3:])\n",
    "e4 = len(aln_tai_forest5) - len(aln_tai_forest5[e4:])\n",
    "e5 = len(aln_bundibugyo5) - len(aln_bundibugyo5[e5:])\n",
    "\n",
    "# initiating 5*5 matrix with zeros\n",
    "matrix_vp30 = []\n",
    "for i in range(5):\n",
    "    matrix_vp30.append([])\n",
    "    for j in range(5):\n",
    "        matrix_vp30[i].append(0)\n",
    "\n",
    "matrix_vp30[0][1] = matrix_vp30[1][0] = -1 * max(a[2] for a in pairwise2.align.globalms(zaire5[b1:e1], sudan5[b2:e2], 0, -1, -1, -1))\n",
    "matrix_vp30[0][2] = matrix_vp30[2][0] = -1 * max(a[2] for a in pairwise2.align.globalms(zaire5[b1:e1], reston5[b3:e3], 0, -1, -1, -1))\n",
    "matrix_vp30[0][3] = matrix_vp30[3][0] = -1 * max(a[2] for a in pairwise2.align.globalms(zaire5[b1:e1], tai_forest5[b4:e4], 0, -1, -1, -1))\n",
    "matrix_vp30[0][4] = matrix_vp30[4][0] = -1 * max(a[2] for a in pairwise2.align.globalms(zaire5[b1:e1], bundibugyo5[b5:e5], 0, -1, -1, -1))\n",
    "matrix_vp30[1][2] = matrix_vp30[2][1] = -1 * max(a[2] for a in pairwise2.align.globalms(sudan5[b2:e2], reston5[b3:e3], 0, -1, -1, -1))\n",
    "matrix_vp30[1][3] = matrix_vp30[3][1] = -1 * max(a[2] for a in pairwise2.align.globalms(sudan5[b2:e2], tai_forest5[b4:e4], 0, -1, -1, -1))\n",
    "matrix_vp30[1][4] = matrix_vp30[4][1] = -1 * max(a[2] for a in pairwise2.align.globalms(sudan5[b2:e2], bundibugyo5[b5:e5], 0, -1, -1, -1))\n",
    "matrix_vp30[2][3] = matrix_vp30[3][2] = -1 * max(a[2] for a in pairwise2.align.globalms(reston5[b3:e3], tai_forest5[b4:e4], 0, -1, -1, -1))\n",
    "matrix_vp30[2][4] = matrix_vp30[4][2] = -1 * max(a[2] for a in pairwise2.align.globalms(reston5[b3:e3], bundibugyo5[b5:e5], 0, -1, -1, -1))\n",
    "matrix_vp30[3][4] = matrix_vp30[4][3] = -1 * max(a[2] for a in pairwise2.align.globalms(tai_forest5[b4:e4], bundibugyo5[b5:e5], 0, -1, -1, -1))\n",
    "\n",
    "print(matrix_vp30)"
   ]
  },
  {
   "cell_type": "code",
   "execution_count": 21,
   "metadata": {
    "collapsed": false
   },
   "outputs": [],
   "source": [
    "import numpy\n",
    "a = numpy.asarray(matrix_vp30)\n",
    "numpy.savetxt(\"csv/VP30.csv\", a, delimiter=\",\")"
   ]
  },
  {
   "cell_type": "code",
   "execution_count": 22,
   "metadata": {
    "collapsed": false
   },
   "outputs": [
    {
     "name": "stdout",
     "output_type": "stream",
     "text": [
      "[[0, 606.0, 607.0, 525.0, 565.0], [606.0, 0, 618.0, 592.0, 648.0], [607.0, 618.0, 0, 601.0, 649.0], [525.0, 592.0, 601.0, 0, 554.0], [565.0, 648.0, 649.0, 554.0, 0]]\n"
     ]
    }
   ],
   "source": [
    "# VP24\n",
    "# Outputs of local alignments\n",
    "aln_zaire6, aln_np, score, b1, e1 = alignment_zaire6[0]\n",
    "aln_sudan6, aln_np, score, b2, e2 = alignment_sudan6[0]\n",
    "aln_reston6, aln_np, score, b3, e3 = alignment_reston6[0]\n",
    "aln_tai_forest6, aln_np, score, b4, e4 = alignment_tai_forest6[0]\n",
    "aln_bundibugyo6, aln_np, score, b5, e5 = alignment_bundibugyo6[0]\n",
    "\n",
    "# computing end of gene\n",
    "e1 = len(aln_zaire6) - len(aln_zaire6[e1:])\n",
    "e2 = len(aln_sudan6) - len(aln_sudan6[e2:])\n",
    "e3 = len(aln_reston6) - len(aln_reston6[e3:])\n",
    "e4 = len(aln_tai_forest6) - len(aln_tai_forest6[e4:])\n",
    "e5 = len(aln_bundibugyo6) - len(aln_bundibugyo6[e5:])\n",
    "\n",
    "# initiating 5*5 matrix with zeros\n",
    "matrix_vp24 = []\n",
    "for i in range(5):\n",
    "    matrix_vp24.append([])\n",
    "    for j in range(5):\n",
    "        matrix_vp24[i].append(0)\n",
    "\n",
    "matrix_vp24[0][1] = matrix_vp24[1][0] = -1 * max(a[2] for a in pairwise2.align.globalms(zaire6[b1:e1], sudan6[b2:e2], 0, -1, -1, -1))\n",
    "matrix_vp24[0][2] = matrix_vp24[2][0] = -1 * max(a[2] for a in pairwise2.align.globalms(zaire6[b1:e1], reston6[b3:e3], 0, -1, -1, -1))\n",
    "matrix_vp24[0][3] = matrix_vp24[3][0] = -1 * max(a[2] for a in pairwise2.align.globalms(zaire6[b1:e1], tai_forest6[b4:e4], 0, -1, -1, -1))\n",
    "matrix_vp24[0][4] = matrix_vp24[4][0] = -1 * max(a[2] for a in pairwise2.align.globalms(zaire6[b1:e1], bundibugyo6[b5:e5], 0, -1, -1, -1))\n",
    "matrix_vp24[1][2] = matrix_vp24[2][1] = -1 * max(a[2] for a in pairwise2.align.globalms(sudan6[b2:e2], reston6[b3:e3], 0, -1, -1, -1))\n",
    "matrix_vp24[1][3] = matrix_vp24[3][1] = -1 * max(a[2] for a in pairwise2.align.globalms(sudan6[b2:e2], tai_forest6[b4:e4], 0, -1, -1, -1))\n",
    "matrix_vp24[1][4] = matrix_vp24[4][1] = -1 * max(a[2] for a in pairwise2.align.globalms(sudan6[b2:e2], bundibugyo6[b5:e5], 0, -1, -1, -1))\n",
    "matrix_vp24[2][3] = matrix_vp24[3][2] = -1 * max(a[2] for a in pairwise2.align.globalms(reston6[b3:e3], tai_forest6[b4:e4], 0, -1, -1, -1))\n",
    "matrix_vp24[2][4] = matrix_vp24[4][2] = -1 * max(a[2] for a in pairwise2.align.globalms(reston6[b3:e3], bundibugyo6[b5:e5], 0, -1, -1, -1))\n",
    "matrix_vp24[3][4] = matrix_vp24[4][3] = -1 * max(a[2] for a in pairwise2.align.globalms(tai_forest6[b4:e4], bundibugyo6[b5:e5], 0, -1, -1, -1))\n",
    "\n",
    "print(matrix_vp24)"
   ]
  },
  {
   "cell_type": "code",
   "execution_count": 23,
   "metadata": {
    "collapsed": false
   },
   "outputs": [],
   "source": [
    "import numpy\n",
    "a = numpy.asarray(matrix_vp24)\n",
    "numpy.savetxt(\"csv/VP24.csv\", a, delimiter=\",\")"
   ]
  },
  {
   "cell_type": "code",
   "execution_count": 24,
   "metadata": {
    "collapsed": false
   },
   "outputs": [
    {
     "name": "stdout",
     "output_type": "stream",
     "text": [
      "[[0, 1146.0, 1172.0, 1164.0, 1168.0], [1146.0, 0, 848.0, 859.0, 890.0], [1172.0, 848.0, 0, 828.0, 869.0], [1164.0, 859.0, 828.0, 0, 727.0], [1168.0, 890.0, 869.0, 727.0, 0]]\n"
     ]
    }
   ],
   "source": [
    "# L\n",
    "# Outputs of local alignments\n",
    "aln_zaire7_1, aln_np, score, b1, e1_1 = alignment_zaire7_1[0]\n",
    "aln_zaire7_2, aln_np, score, b1_2, e1_2 = alignment_zaire7_2[0]\n",
    "aln_sudan7_1, aln_np, score, b2, e2_1 = alignment_sudan7_1[0]\n",
    "aln_sudan7_2, aln_np, score, b2_2, e2_2 = alignment_sudan7_2[0]\n",
    "aln_reston7_1, aln_np, score, b3, e3_1 = alignment_reston7_1[0]\n",
    "aln_reston7_2, aln_np, score, b3_2, e3_2 = alignment_reston7_2[0]\n",
    "aln_tai_forest7_1, aln_np, score, b4, e4_1 = alignment_tai_forest7_1[0]\n",
    "aln_tai_forest7_2, aln_np, score, b4_2, e4_2 = alignment_tai_forest7_2[0]\n",
    "aln_bundibugyo7_1, aln_np, score, b5, e5_1 = alignment_bundibugyo7_1[0]\n",
    "aln_bundibugyo7_2, aln_np, score, b5_2, e5_2 = alignment_bundibugyo7_2[0]\n",
    "\n",
    "# concat 2 parts to create aln_zaire7\n",
    "aln_zaire7 = aln_zaire7_1 + aln_zaire7_2\n",
    "aln_sudan7 = aln_sudan7_1 + aln_sudan7_2\n",
    "aln_reston7 = aln_reston7_1 + aln_reston7_2\n",
    "aln_tai_forest7 = aln_tai_forest7_1 + aln_tai_forest7_2\n",
    "aln_bundibugyo7 = aln_bundibugyo7_1 + aln_bundibugyo7_2\n",
    "\n",
    "# computing end of gene\n",
    "e1 = len(aln_zaire7) - len(aln_zaire7[e1:])\n",
    "e2 = len(aln_sudan7) - len(aln_sudan7[e2:])\n",
    "e3 = len(aln_reston7) - len(aln_reston7[e3:])\n",
    "e4 = len(aln_tai_forest7) - len(aln_tai_forest7[e4:])\n",
    "e5 = len(aln_bundibugyo7) - len(aln_bundibugyo7[e5:])\n",
    "\n",
    "# initiating 5*5 matrix with zeros\n",
    "matrix_l = []\n",
    "for i in range(5):\n",
    "    matrix_l.append([])\n",
    "    for j in range(5):\n",
    "        matrix_l[i].append(0)\n",
    "\n",
    "matrix_l[0][1] = matrix_l[1][0] = -1 * max(a[2] for a in pairwise2.align.globalms(zaire7[b1:e1], sudan7[b2:e2], 0, -1, -1, -1))\n",
    "matrix_l[0][2] = matrix_l[2][0] = -1 * max(a[2] for a in pairwise2.align.globalms(zaire7[b1:e1], reston7[b3:e3], 0, -1, -1, -1))\n",
    "matrix_l[0][3] = matrix_l[3][0] = -1 * max(a[2] for a in pairwise2.align.globalms(zaire7[b1:e1], tai_forest7[b4:e4], 0, -1, -1, -1))\n",
    "matrix_l[0][4] = matrix_l[4][0] = -1 * max(a[2] for a in pairwise2.align.globalms(zaire7[b1:e1], bundibugyo7[b5:e5], 0, -1, -1, -1))\n",
    "matrix_l[1][2] = matrix_l[2][1] = -1 * max(a[2] for a in pairwise2.align.globalms(sudan7[b2:e2], reston7[b3:e3], 0, -1, -1, -1))\n",
    "matrix_l[1][3] = matrix_l[3][1] = -1 * max(a[2] for a in pairwise2.align.globalms(sudan7[b2:e2], tai_forest7[b4:e4], 0, -1, -1, -1))\n",
    "matrix_l[1][4] = matrix_l[4][1] = -1 * max(a[2] for a in pairwise2.align.globalms(sudan7[b2:e2], bundibugyo7[b5:e5], 0, -1, -1, -1))\n",
    "matrix_l[2][3] = matrix_l[3][2] = -1 * max(a[2] for a in pairwise2.align.globalms(reston7[b3:e3], tai_forest7[b4:e4], 0, -1, -1, -1))\n",
    "matrix_l[2][4] = matrix_l[4][2] = -1 * max(a[2] for a in pairwise2.align.globalms(reston7[b3:e3], bundibugyo7[b5:e5], 0, -1, -1, -1))\n",
    "matrix_l[3][4] = matrix_l[4][3] = -1 * max(a[2] for a in pairwise2.align.globalms(tai_forest7[b4:e4], bundibugyo7[b5:e5], 0, -1, -1, -1))\n",
    "\n",
    "print(matrix_l)"
   ]
  },
  {
   "cell_type": "code",
   "execution_count": 25,
   "metadata": {
    "collapsed": true
   },
   "outputs": [],
   "source": [
    "import numpy\n",
    "a = numpy.asarray(matrix_l)\n",
    "numpy.savetxt(\"csv/L.csv\", a, delimiter=\",\")"
   ]
  },
  {
   "cell_type": "markdown",
   "metadata": {
    "editable": true
   },
   "source": [
    "<div style=\"direction:rtl;line-height:300%;\"><font face=\"XB Zar\" size=4>\n",
    "<font color=#E74C3C size=6>\n",
    "<div id=\"tree\">۳. درخت زندگی</div>\n",
    "</font>\n",
    "<div><font color=#069FAB size=5>۳.۱. تشکیل درخت زندگی برای هر ژن</font></div>\n",
    "\n",
    "</font>\n",
    "</div>"
   ]
  },
  {
   "cell_type": "markdown",
   "metadata": {
    "collapsed": false
   },
   "source": [
    "<div style=\"direction:rtl;line-height:300%;\"><font face=\"XB Zar\" size=4>\n",
    "در این قسمت برای ساخت درخت از کتابخانه Bio.Phylo.TreeConstruction استفاده کردم که هر دو الگوریتم neighbor joining و upgma را دارد.\n",
    "<br>\n",
    "برای رسم درخت نیز از کتابخانه Phylo استفاده کردم.\n",
    "</font>\n",
    "</div>"
   ]
  },
  {
   "cell_type": "code",
   "execution_count": 38,
   "metadata": {
    "collapsed": false
   },
   "outputs": [],
   "source": [
    "from Bio.Phylo.TreeConstruction import DistanceTreeConstructor, DistanceMatrix\n",
    "from Bio import Phylo\n",
    "import pylab\n",
    "import matplotlib.pyplot as plt\n",
    "\n",
    "# List to saves all of our trees\n",
    "trees = []\n",
    "\n",
    "# temprary NP Matrix - Lower Triangle\n",
    "temp = []\n",
    "for i in range(5):\n",
    "    temp.append([])\n",
    "    for j in range(i+1):\n",
    "        temp[i].append(matrix_np[i][j])\n",
    "        \n",
    "# Declaring name list\n",
    "names = []\n",
    "names.append('Zaire')\n",
    "names.append('Sudan')\n",
    "names.append('Reston')\n",
    "names.append('Tai-Forest')\n",
    "names.append('Bundibugyo')\n",
    "        \n",
    "# Creating Distance Matrix\n",
    "dm = DistanceMatrix(names=names, matrix=temp)\n",
    "        \n",
    "# Defining A Constructor\n",
    "constructor = DistanceTreeConstructor()\n",
    "        \n",
    "# Running Tree Construction Algorithm\n",
    "tree = constructor.upgma(dm)\n",
    "trees.append(tree)\n",
    "\n",
    "# Draw the tree\n",
    "Phylo.draw(tree, do_show=False)\n",
    "plt.savefig('tree/UPGMA_NP.png')"
   ]
  },
  {
   "cell_type": "code",
   "execution_count": 39,
   "metadata": {
    "collapsed": false
   },
   "outputs": [],
   "source": [
    "# temprary NP Matrix - Lower Triangle\n",
    "temp = []\n",
    "for i in range(5):\n",
    "    temp.append([])\n",
    "    for j in range(i+1):\n",
    "        temp[i].append(matrix_np[i][j])\n",
    "        \n",
    "\n",
    "# Creating Distance Matrix\n",
    "dm = DistanceMatrix(names=names, matrix=temp)\n",
    "        \n",
    "# Defining A Constructor\n",
    "constructor = DistanceTreeConstructor()\n",
    "        \n",
    "# Running Tree Construction Algorithm\n",
    "tree = constructor.nj(dm)\n",
    "trees.append(tree)\n",
    "\n",
    "# Draw the tree\n",
    "Phylo.draw(tree, do_show=False)\n",
    "plt.savefig('tree/NJ_NP.png')"
   ]
  },
  {
   "cell_type": "code",
   "execution_count": 40,
   "metadata": {
    "collapsed": false
   },
   "outputs": [],
   "source": [
    "# temprary VP35 Matrix - Lower Triangle\n",
    "temp = []\n",
    "for i in range(5):\n",
    "    temp.append([])\n",
    "    for j in range(i+1):\n",
    "        temp[i].append(matrix_vp35[i][j])\n",
    "\n",
    "# Creating Distance Matrix\n",
    "dm = DistanceMatrix(names=names, matrix=temp)\n",
    "        \n",
    "# Defining A Constructor\n",
    "constructor = DistanceTreeConstructor()\n",
    "        \n",
    "# Running Tree Construction Algorithm\n",
    "tree = constructor.upgma(dm)\n",
    "trees.append(tree)\n",
    "\n",
    "# Draw the tree\n",
    "Phylo.draw(tree, do_show=False)\n",
    "plt.savefig('tree/UPGMA_VP35.png')"
   ]
  },
  {
   "cell_type": "code",
   "execution_count": 41,
   "metadata": {
    "collapsed": false
   },
   "outputs": [],
   "source": [
    "# temprary VP35 Matrix - Lower Triangle\n",
    "temp = []\n",
    "for i in range(5):\n",
    "    temp.append([])\n",
    "    for j in range(i+1):\n",
    "        temp[i].append(matrix_vp35[i][j])\n",
    "\n",
    "# Creating Distance Matrix\n",
    "dm = DistanceMatrix(names=names, matrix=temp)\n",
    "        \n",
    "# Defining A Constructor\n",
    "constructor = DistanceTreeConstructor()\n",
    "        \n",
    "# Running Tree Construction Algorithm\n",
    "tree = constructor.nj(dm)\n",
    "trees.append(tree)\n",
    "\n",
    "# Draw the tree\n",
    "Phylo.draw(tree, do_show=False)\n",
    "plt.savefig('tree/NJ_VP35.png')"
   ]
  },
  {
   "cell_type": "code",
   "execution_count": 42,
   "metadata": {
    "collapsed": false
   },
   "outputs": [],
   "source": [
    "# temprary VP40 Matrix - Lower Triangle\n",
    "temp = []\n",
    "for i in range(5):\n",
    "    temp.append([])\n",
    "    for j in range(i+1):\n",
    "        temp[i].append(matrix_vp40[i][j])\n",
    "\n",
    "# Creating Distance Matrix\n",
    "dm = DistanceMatrix(names=names, matrix=temp)\n",
    "        \n",
    "# Defining A Constructor\n",
    "constructor = DistanceTreeConstructor()\n",
    "        \n",
    "# Running Tree Construction Algorithm\n",
    "tree = constructor.upgma(dm)\n",
    "trees.append(tree)\n",
    "\n",
    "# Draw the tree\n",
    "Phylo.draw(tree, do_show=False)\n",
    "plt.savefig('tree/UPGMA_VP40.png')"
   ]
  },
  {
   "cell_type": "code",
   "execution_count": 43,
   "metadata": {
    "collapsed": false
   },
   "outputs": [],
   "source": [
    "# temprary VP40 Matrix - Lower Triangle\n",
    "temp = []\n",
    "for i in range(5):\n",
    "    temp.append([])\n",
    "    for j in range(i+1):\n",
    "        temp[i].append(matrix_vp40[i][j])\n",
    "\n",
    "# Creating Distance Matrix\n",
    "dm = DistanceMatrix(names=names, matrix=temp)\n",
    "        \n",
    "# Defining A Constructor\n",
    "constructor = DistanceTreeConstructor()\n",
    "        \n",
    "# Running Tree Construction Algorithm\n",
    "tree = constructor.nj(dm)\n",
    "trees.append(tree)\n",
    "\n",
    "# Draw the tree\n",
    "Phylo.draw(tree, do_show=False)\n",
    "plt.savefig('tree/NJ_VP40.png')"
   ]
  },
  {
   "cell_type": "code",
   "execution_count": 44,
   "metadata": {
    "collapsed": false
   },
   "outputs": [],
   "source": [
    "# temprary GP Matrix - Lower Triangle\n",
    "temp = []\n",
    "for i in range(5):\n",
    "    temp.append([])\n",
    "    for j in range(i+1):\n",
    "        temp[i].append(matrix_gp[i][j])\n",
    "\n",
    "# Creating Distance Matrix\n",
    "dm = DistanceMatrix(names=names, matrix=temp)\n",
    "        \n",
    "# Defining A Constructor\n",
    "constructor = DistanceTreeConstructor()\n",
    "        \n",
    "# Running Tree Construction Algorithm\n",
    "tree = constructor.upgma(dm)\n",
    "trees.append(tree)\n",
    "\n",
    "# Draw the tree\n",
    "Phylo.draw(tree, do_show=False)\n",
    "plt.savefig('tree/UPGMA_GP.png')"
   ]
  },
  {
   "cell_type": "code",
   "execution_count": 45,
   "metadata": {
    "collapsed": false
   },
   "outputs": [],
   "source": [
    "# temprary GP Matrix - Lower Triangle\n",
    "temp = []\n",
    "for i in range(5):\n",
    "    temp.append([])\n",
    "    for j in range(i+1):\n",
    "        temp[i].append(matrix_gp[i][j])\n",
    "\n",
    "# Creating Distance Matrix\n",
    "dm = DistanceMatrix(names=names, matrix=temp)\n",
    "        \n",
    "# Defining A Constructor\n",
    "constructor = DistanceTreeConstructor()\n",
    "        \n",
    "# Running Tree Construction Algorithm\n",
    "tree = constructor.nj(dm)\n",
    "trees.append(tree)\n",
    "\n",
    "# Draw the tree\n",
    "Phylo.draw(tree, do_show=False)\n",
    "plt.savefig('tree/NJ_GP.png')"
   ]
  },
  {
   "cell_type": "code",
   "execution_count": 46,
   "metadata": {
    "collapsed": false
   },
   "outputs": [],
   "source": [
    "# temprary VP30 Matrix - Lower Triangle\n",
    "temp = []\n",
    "for i in range(5):\n",
    "    temp.append([])\n",
    "    for j in range(i+1):\n",
    "        temp[i].append(matrix_vp30[i][j])\n",
    "\n",
    "# Creating Distance Matrix\n",
    "dm = DistanceMatrix(names=names, matrix=temp)\n",
    "        \n",
    "# Defining A Constructor\n",
    "constructor = DistanceTreeConstructor()\n",
    "        \n",
    "# Running Tree Construction Algorithm\n",
    "tree = constructor.upgma(dm)\n",
    "trees.append(tree)\n",
    "\n",
    "# Draw the tree\n",
    "Phylo.draw(tree, do_show=False)\n",
    "plt.savefig('tree/UPGMA_VP30.png')"
   ]
  },
  {
   "cell_type": "code",
   "execution_count": 47,
   "metadata": {
    "collapsed": false
   },
   "outputs": [],
   "source": [
    "# temprary VP30 Matrix - Lower Triangle\n",
    "temp = []\n",
    "for i in range(5):\n",
    "    temp.append([])\n",
    "    for j in range(i+1):\n",
    "        temp[i].append(matrix_vp30[i][j])\n",
    "\n",
    "# Creating Distance Matrix\n",
    "dm = DistanceMatrix(names=names, matrix=temp)\n",
    "        \n",
    "# Defining A Constructor\n",
    "constructor = DistanceTreeConstructor()\n",
    "        \n",
    "# Running Tree Construction Algorithm\n",
    "tree = constructor.nj(dm)\n",
    "trees.append(tree)\n",
    "\n",
    "# Draw the tree\n",
    "Phylo.draw(tree, do_show=False)\n",
    "plt.savefig('tree/NJ_VP30.png')"
   ]
  },
  {
   "cell_type": "code",
   "execution_count": 48,
   "metadata": {
    "collapsed": false
   },
   "outputs": [],
   "source": [
    "# temprary VP24 Matrix - Lower Triangle\n",
    "temp = []\n",
    "for i in range(5):\n",
    "    temp.append([])\n",
    "    for j in range(i+1):\n",
    "        temp[i].append(matrix_vp24[i][j])\n",
    "\n",
    "# Creating Distance Matrix\n",
    "dm = DistanceMatrix(names=names, matrix=temp)\n",
    "        \n",
    "# Defining A Constructor\n",
    "constructor = DistanceTreeConstructor()\n",
    "        \n",
    "# Running Tree Construction Algorithm\n",
    "tree = constructor.upgma(dm)\n",
    "trees.append(tree)\n",
    "\n",
    "# Draw the tree\n",
    "Phylo.draw(tree, do_show=False)\n",
    "plt.savefig('tree/UPGMA_VP24.png')"
   ]
  },
  {
   "cell_type": "code",
   "execution_count": 49,
   "metadata": {
    "collapsed": false
   },
   "outputs": [],
   "source": [
    "# temprary VP24 Matrix - Lower Triangle\n",
    "temp = []\n",
    "for i in range(5):\n",
    "    temp.append([])\n",
    "    for j in range(i+1):\n",
    "        temp[i].append(matrix_vp24[i][j])\n",
    "\n",
    "# Creating Distance Matrix\n",
    "dm = DistanceMatrix(names=names, matrix=temp)\n",
    "        \n",
    "# Defining A Constructor\n",
    "constructor = DistanceTreeConstructor()\n",
    "        \n",
    "# Running Tree Construction Algorithm\n",
    "tree = constructor.nj(dm)\n",
    "trees.append(tree)\n",
    "\n",
    "# Draw the tree\n",
    "Phylo.draw(tree, do_show=False)\n",
    "plt.savefig('tree/NJ_VP24.png')"
   ]
  },
  {
   "cell_type": "code",
   "execution_count": 50,
   "metadata": {
    "collapsed": false
   },
   "outputs": [],
   "source": [
    "# temprary L Matrix - Lower Triangle\n",
    "temp = []\n",
    "for i in range(5):\n",
    "    temp.append([])\n",
    "    for j in range(i+1):\n",
    "        temp[i].append(matrix_l[i][j])\n",
    "\n",
    "# Creating Distance Matrix\n",
    "dm = DistanceMatrix(names=names, matrix=temp)\n",
    "        \n",
    "# Defining A Constructor\n",
    "constructor = DistanceTreeConstructor()\n",
    "        \n",
    "# Running Tree Construction Algorithm\n",
    "tree = constructor.upgma(dm)\n",
    "trees.append(tree)\n",
    "\n",
    "# Draw the tree\n",
    "Phylo.draw(tree, do_show=False)\n",
    "plt.savefig('tree/UPGMA_l.png')"
   ]
  },
  {
   "cell_type": "code",
   "execution_count": 51,
   "metadata": {
    "collapsed": false
   },
   "outputs": [],
   "source": [
    "# temprary L Matrix - Lower Triangle\n",
    "temp = []\n",
    "for i in range(5):\n",
    "    temp.append([])\n",
    "    for j in range(i+1):\n",
    "        temp[i].append(matrix_l[i][j])\n",
    "\n",
    "# Creating Distance Matrix\n",
    "dm = DistanceMatrix(names=names, matrix=temp)\n",
    "        \n",
    "# Defining A Constructor\n",
    "constructor = DistanceTreeConstructor()\n",
    "        \n",
    "# Running Tree Construction Algorithm\n",
    "tree = constructor.nj(dm)\n",
    "trees.append(tree)\n",
    "\n",
    "# Draw the tree\n",
    "Phylo.draw(tree, do_show=False)\n",
    "plt.savefig('tree/NJ_l.png')"
   ]
  },
  {
   "cell_type": "markdown",
   "metadata": {},
   "source": [
    "<div style=\"direction:rtl;line-height:300%;\"><font face=\"XB Zar\" size=4>\n",
    "دو الگوریتم neighbor joining و upgma روش‌های مختلفی برای ساخت درخت استفاده می‌کنند. در الگوریتم NJ ماتریس داده شده به آن بهتر است به صورت additive باشد.  در UPGMA درخت در نهایت ریشه‌دار و در NJ در نهایت بدون ریشه می‌شود.\n",
    "<br>\n",
    "از دیگر تفاوت‌های این دو الگوریتم این می‌باشد که در NJ درخت خروجی rate در شاخه‌های مختلف امکان دارد متفاوت باشد ولی در upgma این rateها یکسان می‌باشند.\n",
    "<br>\n",
    "در مسائلی که cleck modecular می‌باشند خروجی upgma دقیق است اما\n",
    "در مجموع الگوریتم nj خروجی دقیق‌تری می‌دهد.\n",
    "<div style=\"direction:ltr;\">\n",
    "Refrences:\n",
    "<br>\n",
    "[1] <a href=\"https://www.mun.ca/biology/scarr/Panda_UPGMA_&_NJ.html\"> UPGMA & NJ</a>\n",
    "<br>\n",
    "[2]<a  href=\"https://www.researchgate.net/post/What_is_the_difference_between_UPGMA_and_NEJ_method_while_constructing_a_tree_using_a_MEGA_4_software\"> What is the difference between UPGMA and NEJ method while constructing a tree using a MEGA 4 software?</a>\n",
    "</div>\n",
    "</font>\n",
    "</div>"
   ]
  },
  {
   "cell_type": "markdown",
   "metadata": {
    "editable": true
   },
   "source": [
    "<div style=\"direction:rtl;line-height:300%;\"><font face=\"XB Zar\" size=4>\n",
    "\n",
    "در الگوریتم NJ باید مراحل زیر طی شود:\n",
    "<br>\n",
    "ابتدا آرایه ۱ بعدی total_distance را تشکیل می‌دهیم که در واقع مجموع سطر‌های مختلف distance matrix می‌باشد.\n",
    "<br>\n",
    "سپس ماتریس matrix_star را به صورت زیر تعریف می‌کنیم:\n",
    "<br>\n",
    "<div style=\"direction:ltr;\">\n",
    "matrix_star[i][j] = (n - 2) * matrix[i][j] - total_distance[i] - total_distance[j]\n",
    "</div>\n",
    "<br>\n",
    "سپس کمترین خانه ماتریس matrix_star را انتخاب کرده و آن دو را با هم مرج می‌کنیم.\n",
    "<br>\n",
    "سپس ماتریسی که ابعاد آن یکی کاهش پیدا کرده را در مرحله ۱ قرار داده و این کار را به صورت بازگشتی انجان می‌دهیم تا اندازه ماتریس ۱ شود.\n",
    "<br>\n",
    "<div style=\"direction:ltr;\">\n",
    "Refrences:\n",
    "<br>\n",
    "[1] <a href=\"https://en.wikipedia.org/wiki/Neighbor_joining\"> Neighbor joining</a>\n",
    "<br>\n",
    "</div>\n",
    "<br>\n",
    "نتایج NJ:\n",
    "<br>\n",
    "</font>\n",
    "</div>"
   ]
  },
  {
   "cell_type": "markdown",
   "metadata": {},
   "source": [
    "![NP](tree/NJ_NP.png)\n",
    "![NP](tree/NJ_VP35.png)\n",
    "![NP](tree/NJ_VP40.png)\n",
    "![NP](tree/NJ_GP.png)\n",
    "![NP](tree/NJ_VP30.png)\n",
    "![NP](tree/NJ_VP24.png)\n",
    "![NP](tree/NJ_L.png)"
   ]
  },
  {
   "cell_type": "markdown",
   "metadata": {},
   "source": [
    "<div style=\"direction:rtl;line-height:300%;\"><font face=\"XB Zar\" size=4>\n",
    "\n",
    "در الگوریتم UPGMA باید مراحل زیر طی شود:\n",
    "<br>\n",
    "بیشترین خانه ماتریس distance matrix را انتخاب کرده و آن دو را با هم مرج می‌کنیم.\n",
    "<br>\n",
    "سپس ماتریسی که ابعاد آن یکی کاهش پیدا کرده را در مرحله ۱ قرار داده و این کار را به صورت بازگشتی انجام می‌دهیم تا اندازه ماتریس ۱ شود\n",
    "<br>\n",
    "<div style=\"direction:ltr;\">\n",
    "Refrences:\n",
    "<br>\n",
    "[1] <a href=\"https://en.wikipedia.org/wiki/UPGMA\">UPGMA</a>\n",
    "<br>\n",
    "</div>\n",
    "<br>\n",
    "نتایج UPGMA:\n",
    "<br>\n",
    "</font>\n",
    "</div>"
   ]
  },
  {
   "cell_type": "markdown",
   "metadata": {},
   "source": [
    "![NP](tree/UPGMA_NP.png)\n",
    "![NP](tree/UPGMA_VP35.png)\n",
    "![NP](tree/UPGMA_VP40.png)\n",
    "![NP](tree/UPGMA_GP.png)\n",
    "![NP](tree/UPGMA_VP30.png)\n",
    "![NP](tree/UPGMA_VP24.png)\n",
    "![NP](tree/UPGMA_L.png)"
   ]
  },
  {
   "cell_type": "markdown",
   "metadata": {
    "editable": true
   },
   "source": [
    "<div style=\"direction:rtl;line-height:300%;\"><font face=\"XB Zar\" size=4>\n",
    "<font color=#E74C3C size=6>\n",
    "</font>\n",
    "<div><font color=#069FAB size=5>۳.۲. ترکیب درخت‌ها و ارائه درخت نهایی</font></div>\n",
    "برای این کار از کتابخانه Bio.Phylo.Consensus استفاده می‌کنیم. \n",
    "<br>\n",
    "consensus tree یک تخمینی از درخت نهایی را به ما می‌دهد. این الگوریتم ۲ نوع درخت Majority rule consensus tree و Strict consensus tree پیاده‌سازی می‌شود. هر دوی این‌ها بر اساس فرکانس تکرار cluster کار می‌کنند.\n",
    "<br>\n",
    "strict consensus tree تنها cluster هایی را در بردارد که در تمامی درخت‌ها یافت می‌شوند. این در خالی است که  majority rule consensus tree دارای cluster هایی است که حداقل در نصف درخت‌ها تکرار شده‌اند.\n",
    "<br>\n",
    "این نصف را می‌توان با cutoff تغییر داد.\n",
    "<br> \n",
    "Strict consensus tree تنها زمانی کاربرد دارد که ما به دنبال cluster هایی هستیم که همه جا تکرار شده‌اند. \n",
    "<br>\n",
    "در اینجا از روش Majority rule consensus tree استفاده می‌کنیم زیرا این روش در واقع median consensus tree نیز می‌باشد و برای ساختن confidence intervals نیز مناسب است. این روش با تغییر مقدار cutoff انعطاف پذیر نیز می‌باشد.\n",
    "\n",
    "<div style=\"direction:ltr;\">\n",
    "Refrences:\n",
    "<br>\n",
    "[1] <a href=\"https://assets.geneious.com/manual/11.0/GeneiousManualsu111.html\">Consensus trees</a>\n",
    "<br>\n",
    "[2] <a href=\"http://taxonomy.zoology.gla.ac.uk/rod/cplite/ch4.pdf\">Consensus trees</a>\n",
    "<br>\n",
    "</div>\n",
    "\n",
    "</font>\n",
    "</div>"
   ]
  },
  {
   "cell_type": "code",
   "execution_count": 53,
   "metadata": {
    "collapsed": false
   },
   "outputs": [],
   "source": [
    "from Bio.Phylo.Consensus import *\n",
    "\n",
    "# Seperating NJ & UPGMA trees\n",
    "nj_tree = []\n",
    "upgma_tree = []\n",
    "for i in range(14):\n",
    "    if i%2 == 0:\n",
    "        upgma_tree.append(trees[i])\n",
    "    else:\n",
    "        nj_tree.append(trees[i])\n",
    "\n",
    "# Majority Consensus Function\n",
    "majority_tree_NJ = majority_consensus(nj_tree, cutoff=0.5)\n",
    "Phylo.draw(majority_tree_NJ, do_show=False)\n",
    "plt.savefig('tree/NJ_majority_tree.png')"
   ]
  },
  {
   "cell_type": "code",
   "execution_count": 68,
   "metadata": {
    "collapsed": false
   },
   "outputs": [],
   "source": [
    "# Majority Consensus Function\n",
    "majority_tree_UPGMA = majority_consensus(upgma_tree, cutoff=0.5)\n",
    "Phylo.draw(majority_tree_UPGMA, do_show=False)\n",
    "plt.savefig('tree/UPGMA_majority_tree.png')"
   ]
  },
  {
   "cell_type": "markdown",
   "metadata": {},
   "source": [
    "![NP](tree/NJ_majority_tree.png)\n",
    "![NP](tree/UPGMA_majority_tree.png)"
   ]
  },
  {
   "cell_type": "markdown",
   "metadata": {
    "editable": true
   },
   "source": [
    "<div style=\"direction:rtl;line-height:300%;\"><font face=\"XB Zar\" size=4>\n",
    "<font color=#E74C3C size=6>\n",
    "</font>\n",
    "<div><font color=#069FAB size=5>۳.۳. مقایسه درخت ترکیبی و درخت حاصل از همترازی سراسری</font></div>\n",
    "در اینجا از الگوریتم myers's bit vector algorithm که در global alignment پیاده سازی شده‌است استفاده می‌کنیم.\n",
    "</font>\n",
    "</div>"
   ]
  },
  {
   "cell_type": "code",
   "execution_count": 56,
   "metadata": {
    "collapsed": false
   },
   "outputs": [],
   "source": [
    "# Global Alignments\n",
    "ga_zaire_sudan = pairwise2.align.globalms(zaire, sudan, 0, -1, -1, -1)\n",
    "ga_zaire_reston = pairwise2.align.globalms(zaire, reston, 0, -1, -1, -1)\n",
    "ga_zaire_tai_forest = pairwise2.align.globalms(zaire, tai_forest, 0, -1, -1, -1)\n",
    "ga_zaire_bundibugyo = pairwise2.align.globalms(zaire, bundibugyo, 0, -1, -1, -1)\n",
    "ga_sudan_reston = pairwise2.align.globalms(sudan, reston, 0, -1, -1, -1)\n",
    "ga_sudan_tai_forest = pairwise2.align.globalms(sudan, tai_forest, 0, -1, -1, -1)\n",
    "ga_sudan_bundibugyo = pairwise2.align.globalms(sudan, bundibugyo, 0, -1, -1, -1)\n",
    "ga_reston_tai_forest = pairwise2.align.globalms(reston, tai_forest, 0, -1, -1, -1)\n",
    "ga_reston_bundibugyo = pairwise2.align.globalms(reston, bundibugyo, 0, -1, -1, -1)\n",
    "ga_tai_forest_bundibugyo = pairwise2.align.globalms(tai_forest, bundibugyo, 0, -1, -1, -1)"
   ]
  },
  {
   "cell_type": "code",
   "execution_count": 60,
   "metadata": {
    "collapsed": true
   },
   "outputs": [],
   "source": [
    "# Alignment Outputs\n",
    "zs_z, zs_s, score_zs, b_zs, e_zs = ga_zaire_sudan[0]\n",
    "zr_z, zr_r, score_zr, b_zr, e_zr = ga_zaire_reston[0]\n",
    "zt_z, zt_s, score_zt, b_zt, e_zt = ga_zaire_tai_forest[0]\n",
    "zb_z, zb_s, score_zb, b_zb, e_zb = ga_zaire_bundibugyo[0]\n",
    "sr_s, sr_r, score_sr, b_sr, e_sr = ga_sudan_reston[0]\n",
    "st_s, st_t, score_st, b_st, e_st = ga_sudan_tai_forest[0]\n",
    "sb_s, sb_b, score_sb, b_sb, e_sb = ga_sudan_bundibugyo[0]\n",
    "rt_r, rt_t, score_rt, b_rt, e_rt = ga_reston_tai_forest[0]\n",
    "rb_r, rb_b, score_rb, b_rb, e_rb = ga_reston_bundibugyo[0]\n",
    "tb_t, tb_b, score_tb, b_tb, e_tb = ga_tai_forest_bundibugyo[0]"
   ]
  },
  {
   "cell_type": "code",
   "execution_count": 64,
   "metadata": {
    "collapsed": false
   },
   "outputs": [],
   "source": [
    "# Empty Matrix\n",
    "total_matrix = []\n",
    "# Initiate with zeros\n",
    "for i in range(5):\n",
    "    total_matrix.append([])\n",
    "    for j in range(5):\n",
    "        total_matrix[i].append(0)\n",
    "\n",
    "total_matrix[0][1] = total_matrix[1][0] = -1 * score_zs\n",
    "total_matrix[0][2] = total_matrix[2][0] = -1 * score_zr\n",
    "total_matrix[0][3] = total_matrix[3][0] = -1 * score_zt\n",
    "total_matrix[0][4] = total_matrix[4][0] = -1 * score_zb\n",
    "total_matrix[1][2] = total_matrix[2][1] = -1 * score_sr\n",
    "total_matrix[1][3] = total_matrix[3][1] = -1 * score_st\n",
    "total_matrix[1][4] = total_matrix[4][1] = -1 * score_sb\n",
    "total_matrix[2][3] = total_matrix[3][2] = -1 * score_rt\n",
    "total_matrix[2][4] = total_matrix[4][2] = -1 * score_rb\n",
    "total_matrix[3][4] = total_matrix[4][3] = -1 * score_tb"
   ]
  },
  {
   "cell_type": "code",
   "execution_count": 66,
   "metadata": {
    "collapsed": false
   },
   "outputs": [],
   "source": [
    "# Lowe-Triangle Matrix\n",
    "temp = []\n",
    "for i in range(5):\n",
    "    temp.append([])\n",
    "    for j in range(i+1):\n",
    "        temp[i].append(total_matrix[i][j])\n",
    "\n",
    "# Creating Distance Matrix\n",
    "dm = DistanceMatrix(names=names, matrix=temp)\n",
    "        \n",
    "# Defining A Constructor\n",
    "constructor = DistanceTreeConstructor()\n",
    "        \n",
    "# Running Tree Construction Algorithm\n",
    "tree = constructor.nj(dm)\n",
    "trees.append(tree)\n",
    "\n",
    "# Draw the tree\n",
    "Phylo.draw(tree, do_show=False)\n",
    "plt.savefig('tree/NJ_Global.png')"
   ]
  },
  {
   "cell_type": "code",
   "execution_count": 67,
   "metadata": {
    "collapsed": false
   },
   "outputs": [],
   "source": [
    "# Lowe-Triangle Matrix\n",
    "temp = []\n",
    "for i in range(5):\n",
    "    temp.append([])\n",
    "    for j in range(i+1):\n",
    "        temp[i].append(total_matrix[i][j])\n",
    "\n",
    "# Creating Distance Matrix\n",
    "dm = DistanceMatrix(names=names, matrix=temp)\n",
    "        \n",
    "# Defining A Constructor\n",
    "constructor = DistanceTreeConstructor()\n",
    "        \n",
    "# Running Tree Construction Algorithm\n",
    "tree = constructor.upgma(dm)\n",
    "trees.append(tree)\n",
    "\n",
    "# Draw the tree\n",
    "Phylo.draw(tree, do_show=False)\n",
    "plt.savefig('tree/UPGMA_Global.png')"
   ]
  },
  {
   "cell_type": "markdown",
   "metadata": {},
   "source": [
    "![NP](tree/NJ_Global.png)\n",
    "![NP](tree/UPGMA_Global.png)"
   ]
  },
  {
   "cell_type": "markdown",
   "metadata": {
    "editable": true
   },
   "source": [
    "<div style=\"direction:rtl;line-height:300%;\"><font face=\"XB Zar\" size=4>\n",
    "<font color=#E74C3C size=6>\n",
    "</font>\n",
    "<div><font color=#069FAB size=5>۳.۴. تعیین نقطه شروع</font></div>\n",
    "این قسمت مشابه قسمت قبل می‌باشد، فقط باید فواصل تا marburg را نیز حساب کنیم.\n",
    "</font>\n",
    "</div>"
   ]
  },
  {
   "cell_type": "code",
   "execution_count": 70,
   "metadata": {
    "collapsed": false
   },
   "outputs": [],
   "source": [
    "marburg = ''.join(marberg_genome)"
   ]
  },
  {
   "cell_type": "code",
   "execution_count": 71,
   "metadata": {
    "collapsed": false
   },
   "outputs": [],
   "source": [
    "# Global Alignments\n",
    "ga_zaire_marburg = pairwise2.align.globalms(zaire, marburg, 0, -1, -1, -1)\n",
    "ga_sudan_marburg = pairwise2.align.globalms(sudan, marburg, 0, -1, -1, -1)\n",
    "ga_reston_marburg = pairwise2.align.globalms(reston, marburg, 0, -1, -1, -1)\n",
    "ga_tai_forest_marburg = pairwise2.align.globalms(tai_forest, marburg, 0, -1, -1, -1)\n",
    "ga_bundibugyo_marburg = pairwise2.align.globalms(bundibugyo, marburg, 0, -1, -1, -1)"
   ]
  },
  {
   "cell_type": "code",
   "execution_count": 72,
   "metadata": {
    "collapsed": true
   },
   "outputs": [],
   "source": [
    "# Alignment Outputs\n",
    "zm_z, zm_s, score_zm, b_zm, e_zm = ga_zaire_marburg[0]\n",
    "sm_z, sm_s, score_sm, b_sm, e_sm = ga_sudan_marburg[0]\n",
    "rm_z, rm_s, score_rm, b_rm, e_rm = ga_reston_marburg[0]\n",
    "tm_z, tm_s, score_tm, b_tm, e_tm = ga_tai_forest_marburg[0]\n",
    "bm_z, bm_s, score_bm, b_bm, e_bm = ga_bundibugyo_marburg[0]"
   ]
  },
  {
   "cell_type": "code",
   "execution_count": 73,
   "metadata": {
    "collapsed": false
   },
   "outputs": [],
   "source": [
    "# Empty Matrix\n",
    "total_matrix_marburg = []\n",
    "# Initiate with zeros\n",
    "for i in range(6):\n",
    "    total_matrix_marburg.append([])\n",
    "    for j in range(6):\n",
    "        total_matrix_marburg[i].append(0)\n",
    "\n",
    "for i in range(5):\n",
    "    for j in range(5):\n",
    "        total_matrix_marburg[i][j] = total_matrix[i][j]\n",
    "\n",
    "total_matrix_marburg[0][5] = total_matrix_marburg[5][0] = -1 * score_zm\n",
    "total_matrix_marburg[1][5] = total_matrix_marburg[5][1] = -1 * score_sm\n",
    "total_matrix_marburg[2][5] = total_matrix_marburg[5][2] = -1 * score_rm\n",
    "total_matrix_marburg[3][5] = total_matrix_marburg[5][3] = -1 * score_tm\n",
    "total_matrix_marburg[4][5] = total_matrix_marburg[5][4] = -1 * score_bm\n"
   ]
  },
  {
   "cell_type": "code",
   "execution_count": 77,
   "metadata": {
    "collapsed": false
   },
   "outputs": [],
   "source": [
    "plt.rcParams.update({'figure.max_open_warning': 0})\n",
    "# Lowe-Triangle Matrix\n",
    "temp = []\n",
    "for i in range(6):\n",
    "    temp.append([])\n",
    "    for j in range(i+1):\n",
    "        temp[i].append(total_matrix_marburg[i][j])\n",
    "\n",
    "# Declaring name list\n",
    "names = []\n",
    "names.append('Zaire')\n",
    "names.append('Sudan')\n",
    "names.append('Reston')\n",
    "names.append('Tai-Forest')\n",
    "names.append('Bundibugyo')\n",
    "names.append(\"Marburg\")\n",
    "\n",
    "# Creating Distance Matrix\n",
    "dm = DistanceMatrix(names=names, matrix=temp)\n",
    "        \n",
    "# Defining A Constructor\n",
    "constructor = DistanceTreeConstructor()\n",
    "        \n",
    "# Running Tree Construction Algorithm\n",
    "tree = constructor.nj(dm)\n",
    "trees.append(tree)\n",
    "\n",
    "# Draw the tree\n",
    "Phylo.draw(tree, do_show=False)\n",
    "plt.savefig('tree/NJ_Global_Marburg.png')"
   ]
  },
  {
   "cell_type": "code",
   "execution_count": 79,
   "metadata": {
    "collapsed": false
   },
   "outputs": [],
   "source": [
    "# Lowe-Triangle Matrix\n",
    "temp = []\n",
    "for i in range(6):\n",
    "    temp.append([])\n",
    "    for j in range(i+1):\n",
    "        temp[i].append(total_matrix_marburg[i][j])\n",
    "\n",
    "# Creating Distance Matrix\n",
    "dm = DistanceMatrix(names=names, matrix=temp)\n",
    "        \n",
    "# Defining A Constructor\n",
    "constructor = DistanceTreeConstructor()\n",
    "        \n",
    "# Running Tree Construction Algorithm\n",
    "tree = constructor.upgma(dm)\n",
    "trees.append(tree)\n",
    "\n",
    "# Draw the tree\n",
    "Phylo.draw(tree, do_show=False)\n",
    "plt.savefig('tree/UPGMA_Global_Marburg.png')"
   ]
  },
  {
   "cell_type": "markdown",
   "metadata": {},
   "source": [
    "![NP](tree/NJ_Global_Marburg.png)\n",
    "![NP](tree/UPGMA_Global_Marburg.png)"
   ]
  },
  {
   "cell_type": "markdown",
   "metadata": {},
   "source": [
    "<div style=\"direction:rtl;line-height:300%;\"><font face=\"XB Zar\" size=4>\n",
    "<font color=#E74C3C size=6>\n",
    "<div id=\"estimate\">۴. تخمین گذشته، پیشبینی آینده</div>\n",
    "</font>\n",
    "<div><font color=#069FAB size=5>۴.۱. چه زمانی از هم جدا شده‌اند؟</font></div>\n",
    "مدل Jukes_Cantor یک مدل سیر تکاملی DNA می‌باشد.در این مدل p به صورت تقسیم تعداد اشتراکات دو رشته بر طول مشترک ۲ رشته به دست می‌آید. سپس برای به دست آوردن t از فرمول زیر استفاده می‌شود:\n",
    "<br>\n",
    "<div style=\"direction:ltr;\">\n",
    "t = -0.75 * ln(1 - p/0.75)\n",
    "</div>\n",
    "<br> در نهایت با تقسیم این t بر لاندا که در سوال داده شده زمان‌ها به دست می‌آیند.\n",
    "<br> لازم به ذکر است که این مدل ساده‌ترین مدل جانشینی موجود است و. همچنین در این مدل فرض می‌شود که substitution rates در بین سایت‌های مختلف برابر است.\n",
    "<div style=\"direction:ltr;\">\n",
    "Refrences:\n",
    "<br>\n",
    "[1] <a href=\"https://en.wikipedia.org/wiki/Models_of_DNA_evolution\">Models of DNA evolution</a>\n",
    "<br>\n",
    "[2] <a href=\"http://treethinkers.org/jukes-cantor-model-of-dna-substitution/\">\n",
    "Jukes Cantor Model of DNA substitution</a>\n",
    "<br>\n",
    "</div>\n",
    "</font>\n",
    "</div>"
   ]
  },
  {
   "cell_type": "code",
   "execution_count": 80,
   "metadata": {
    "collapsed": true
   },
   "outputs": [],
   "source": [
    "from math import log\n",
    "\n",
    "def Jukes_Cantor(matched, total):\n",
    "    p = matched/total\n",
    "    t = -0.75 * log(1 - p/0.75)\n",
    "    return (t * 1/(1.9* 10**-3))"
   ]
  },
  {
   "cell_type": "code",
   "execution_count": 87,
   "metadata": {
    "collapsed": false
   },
   "outputs": [],
   "source": [
    "# Empty List\n",
    "time_matrix = []\n",
    "for i in range(6):\n",
    "    time_matrix.append([])\n",
    "    for j in range(6):\n",
    "        time_matrix[i].append(0)\n",
    "\n",
    "time_matrix[0][1] = time_matrix[1][0] = Jukes_Cantor(-1 * score_zs, e_zs)\n",
    "time_matrix[0][2] = time_matrix[2][0] = Jukes_Cantor(-1 * score_zr, e_zr)\n",
    "time_matrix[0][3] = time_matrix[3][0] = Jukes_Cantor(-1 * score_zt, e_zt)\n",
    "time_matrix[0][4] = time_matrix[4][0] = Jukes_Cantor(-1 * score_zb, e_zb)\n",
    "time_matrix[0][5] = time_matrix[5][0] = Jukes_Cantor(-1 * score_zm, e_zm)\n",
    "time_matrix[1][2] = time_matrix[2][1] = Jukes_Cantor(-1 * score_sr, e_sr)\n",
    "time_matrix[1][3] = time_matrix[3][1] = Jukes_Cantor(-1 * score_st, e_st)\n",
    "time_matrix[1][4] = time_matrix[4][1] = Jukes_Cantor(-1 * score_sb, e_sb)\n",
    "time_matrix[1][5] = time_matrix[5][1] = Jukes_Cantor(-1 * score_sm, e_sm)\n",
    "time_matrix[2][3] = time_matrix[3][2] = Jukes_Cantor(-1 * score_rt, e_rt)\n",
    "time_matrix[2][4] = time_matrix[4][2] = Jukes_Cantor(-1 * score_rb, e_rb)\n",
    "time_matrix[2][5] = time_matrix[5][2] = Jukes_Cantor(-1 * score_rm, e_rm)\n",
    "time_matrix[3][4] = time_matrix[4][3] = Jukes_Cantor(-1 * score_tb, e_tb)\n",
    "time_matrix[3][5] = time_matrix[5][3] = Jukes_Cantor(-1 * score_tm, e_tm)\n",
    "time_matrix[4][5] = time_matrix[5][4] = Jukes_Cantor(-1 * score_bm, e_tb)\n"
   ]
  },
  {
   "cell_type": "markdown",
   "metadata": {},
   "source": [
    "<div style=\"direction:rtl;line-height:300%;\"><font face=\"XB Zar\" size=4>\n",
    "فاصله زمانی بین هر دو گونه:\n",
    "</font>\n",
    "</div>"
   ]
  },
  {
   "cell_type": "code",
   "execution_count": 88,
   "metadata": {
    "collapsed": false
   },
   "outputs": [
    {
     "name": "stdout",
     "output_type": "stream",
     "text": [
      "\n",
      "0 235.99427966341477 234.03506023905996 213.94346194920124 215.42456472275828 337.2026645020491 \n",
      "235.99427966341477 0 238.49791561947856 239.46868549576874 240.11743507721005 337.3038991168611 \n",
      "234.03506023905996 238.49791561947856 0 238.50282736733297 238.81733167536694 333.6363328353287 \n",
      "213.94346194920124 239.46868549576874 238.50282736733297 0 185.9288090093821 340.4389891436721 \n",
      "215.42456472275828 240.11743507721005 238.81733167536694 185.9288090093821 0 377.48672582574153 \n",
      "337.2026645020491 337.3038991168611 333.6363328353287 340.4389891436721 377.48672582574153 0 "
     ]
    }
   ],
   "source": [
    "for i in range(6):\n",
    "    print()\n",
    "    for j in range(6):\n",
    "        print(time_matrix[i][j], end=\" \")"
   ]
  },
  {
   "cell_type": "code",
   "execution_count": 102,
   "metadata": {
    "collapsed": false
   },
   "outputs": [],
   "source": [
    "# Lowe-Triangle Matrix\n",
    "temp = []\n",
    "for i in range(6):\n",
    "    temp.append([])\n",
    "    for j in range(i+1):\n",
    "        temp[i].append(time_matrix[i][j])\n",
    "\n",
    "# Declaring name list\n",
    "names = []\n",
    "names.append('Zaire')\n",
    "names.append('Sudan')\n",
    "names.append('Reston')\n",
    "names.append('Tai-Forest')\n",
    "names.append('Bundibugyo')\n",
    "names.append(\"Marburg\")\n",
    "\n",
    "# Creating Distance Matrix\n",
    "dm = DistanceMatrix(names=names, matrix=temp)\n",
    "        \n",
    "# Defining A Constructor\n",
    "constructor = DistanceTreeConstructor()\n",
    "        \n",
    "# Running Tree Construction Algorithm\n",
    "tree_nj = constructor.nj(dm)\n",
    "\n",
    "# Draw the tree\n",
    "Phylo.draw(tree_nj, do_show=False)\n",
    "plt.savefig('tree/NJ_time.png')"
   ]
  },
  {
   "cell_type": "code",
   "execution_count": 103,
   "metadata": {
    "collapsed": true
   },
   "outputs": [],
   "source": [
    "# Creating Distance Matrix\n",
    "dm = DistanceMatrix(names=names, matrix=temp)\n",
    "        \n",
    "# Defining A Constructor\n",
    "constructor = DistanceTreeConstructor()\n",
    "        \n",
    "# Running Tree Construction Algorithm\n",
    "tree_upgma = constructor.upgma(dm)\n",
    "\n",
    "# Draw the tree\n",
    "Phylo.draw(tree_upgma, do_show=False)\n",
    "plt.savefig('tree/UPGMA_time.png')"
   ]
  },
  {
   "cell_type": "markdown",
   "metadata": {},
   "source": [
    "![NP](tree/NJ_time.png)\n",
    "![NP](tree/UPGMA_time.png)"
   ]
  },
  {
   "cell_type": "markdown",
   "metadata": {},
   "source": [
    "<div style=\"direction:rtl;line-height:300%;\"><font face=\"XB Zar\" size=4>\n",
    "فاصله تا جد مشترک\n",
    "</font>\n",
    "</div>"
   ]
  },
  {
   "cell_type": "code",
   "execution_count": 111,
   "metadata": {
    "collapsed": false
   },
   "outputs": [
    {
     "name": "stdout",
     "output_type": "stream",
     "text": [
      "169.5408615078036\n"
     ]
    }
   ],
   "source": [
    "print(tree_upgma.distance(\"Inner5\", \"Zaire\"))"
   ]
  },
  {
   "cell_type": "markdown",
   "metadata": {},
   "source": [
    "<div style=\"direction:rtl;line-height:300%;\"><font face=\"XB Zar\" size=4>\n",
    "\n",
    "<div><font color=#069FAB size=5>۴.۲: چه زمانی یک گونه جدید به وجود می‌آید؟</font></div>\n",
    "میانگین edit distance:\n",
    "</font>\n",
    "</div>"
   ]
  },
  {
   "cell_type": "code",
   "execution_count": 118,
   "metadata": {
    "collapsed": false
   },
   "outputs": [
    {
     "name": "stdout",
     "output_type": "stream",
     "text": [
      "6541.0\n"
     ]
    }
   ],
   "source": [
    "num = 0\n",
    "sum = 0\n",
    "for i in range(5):\n",
    "    for j in range(i):\n",
    "        num += 1\n",
    "        sum += total_matrix_marburg[i][j]\n",
    "print(sum/num)"
   ]
  },
  {
   "cell_type": "markdown",
   "metadata": {},
   "source": [
    "<div style=\"direction:rtl;line-height:300%;\"><font face=\"XB Zar\" size=4>\n",
    "طول متوسط گونه‌ها:\n",
    "</font>\n",
    "</div>"
   ]
  },
  {
   "cell_type": "code",
   "execution_count": 119,
   "metadata": {
    "collapsed": false
   },
   "outputs": [
    {
     "name": "stdout",
     "output_type": "stream",
     "text": [
      "18920.0\n"
     ]
    }
   ],
   "source": [
    "print((len(zaire)+len(sudan)+len(reston)+len(tai_forest)+len(bundibugyo))/5)"
   ]
  },
  {
   "cell_type": "code",
   "execution_count": 120,
   "metadata": {
    "collapsed": false
   },
   "outputs": [
    {
     "data": {
      "text/plain": [
       "243.93259374956136"
      ]
     },
     "execution_count": 120,
     "metadata": {},
     "output_type": "execute_result"
    }
   ],
   "source": [
    "Jukes_Cantor(6541.0, 18920.0)"
   ]
  },
  {
   "cell_type": "code",
   "execution_count": null,
   "metadata": {
    "collapsed": true
   },
   "outputs": [],
   "source": []
  }
 ],
 "metadata": {
  "celltoolbar": "Slideshow",
  "kernelspec": {
   "display_name": "Python 3",
   "language": "python",
   "name": "python3"
  },
  "language_info": {
   "codemirror_mode": {
    "name": "ipython",
    "version": 3
   },
   "file_extension": ".py",
   "mimetype": "text/x-python",
   "name": "python",
   "nbconvert_exporter": "python",
   "pygments_lexer": "ipython3",
   "version": "3.6.0"
  }
 },
 "nbformat": 4,
 "nbformat_minor": 0
}
